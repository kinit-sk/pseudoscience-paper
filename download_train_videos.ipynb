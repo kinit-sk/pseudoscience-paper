{
 "cells": [
  {
   "cell_type": "code",
   "execution_count": null,
   "metadata": {},
   "outputs": [],
   "source": [
    "from time import sleep\n",
    "from youtubehelpers.YouTubeVideoDownloader import YouTubeVideoDownloader\n",
    "import json\n",
    "import pandas as pd\n",
    "from os.path import exists"
   ]
  },
  {
   "cell_type": "markdown",
   "metadata": {},
   "source": [
    "Train data can be downloaded from the [main repository](https://github.com/kinit-sk/yaudit-recsys-2021/blob/main/Data/normalized_data/train.csv) and saved into `yaudit-data` folder."
   ]
  },
  {
   "cell_type": "code",
   "execution_count": null,
   "metadata": {},
   "outputs": [],
   "source": [
    "train = pd.read_csv('yaudit-data/train.csv')"
   ]
  },
  {
   "cell_type": "code",
   "execution_count": null,
   "metadata": {},
   "outputs": [],
   "source": [
    "train.info()"
   ]
  },
  {
   "cell_type": "code",
   "execution_count": null,
   "metadata": {},
   "outputs": [],
   "source": [
    "youtube_ids = list(train['uuid'])\n",
    "print(len(youtube_ids))"
   ]
  },
  {
   "cell_type": "code",
   "execution_count": null,
   "metadata": {},
   "outputs": [],
   "source": [
    "youtube_ids[:5]"
   ]
  },
  {
   "cell_type": "code",
   "execution_count": null,
   "metadata": {},
   "outputs": [],
   "source": [
    "ytDownloader = YouTubeVideoDownloader()\n",
    "\n",
    "for video_id in youtube_ids[:1]:\n",
    "    path = f'videosdata/videos/{video_id}.json'\n",
    "    if not exists(path):\n",
    "        print('downloading video', video_id)\n",
    "        video_details = ytDownloader.download_video(video_id=video_id)\n",
    "        with open(path, 'w') as f:\n",
    "            json.dump(video_details, f)\n",
    "        print('done')\n",
    "        sleep(10)"
   ]
  }
 ],
 "metadata": {
  "kernelspec": {
   "display_name": "Python 3.8.10 ('.venv': venv)",
   "language": "python",
   "name": "python3"
  },
  "language_info": {
   "codemirror_mode": {
    "name": "ipython",
    "version": 3
   },
   "file_extension": ".py",
   "mimetype": "text/x-python",
   "name": "python",
   "nbconvert_exporter": "python",
   "pygments_lexer": "ipython3",
   "version": "3.8.10"
  },
  "orig_nbformat": 4,
  "vscode": {
   "interpreter": {
    "hash": "b299439bf7eaeae6df5b812e2fbba3f4e3163911666ff4139437c50c14e61cd3"
   }
  }
 },
 "nbformat": 4,
 "nbformat_minor": 2
}

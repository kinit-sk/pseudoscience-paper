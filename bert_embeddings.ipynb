{
  "cells": [
    {
      "cell_type": "markdown",
      "metadata": {},
      "source": [
        "# BERT Embeddings\n",
        "\n",
        "This code was run in Google Colab environment to avoid conflicts in version of tensorflow used in the rest of this repository. The code of the encoder model is partially based upon the following [notebook](https://www.tensorflow.org/text/tutorials/bert_glue)."
      ]
    },
    {
      "cell_type": "code",
      "execution_count": null,
      "metadata": {
        "id": "B-Kh3APxkLOu"
      },
      "outputs": [],
      "source": [
        "# A dependency of the preprocessing for BERT inputs\n",
        "!pip install -q -U \"tensorflow-text==2.8.*\""
      ]
    },
    {
      "cell_type": "code",
      "execution_count": null,
      "metadata": {
        "id": "xKw1i9iikUQu"
      },
      "outputs": [],
      "source": [
        "!pip install -q tf-models-official==2.7.0"
      ]
    },
    {
      "cell_type": "code",
      "execution_count": null,
      "metadata": {
        "id": "2d5K_j8bkX82"
      },
      "outputs": [],
      "source": [
        "import tensorflow as tf\n",
        "import tensorflow_hub as hub\n",
        "import tensorflow_text as text\n",
        "\n",
        "import numpy as np\n",
        "\n",
        "tf.get_logger().setLevel('ERROR')"
      ]
    },
    {
      "cell_type": "code",
      "execution_count": null,
      "metadata": {
        "cellView": "form",
        "colab": {
          "base_uri": "https://localhost:8080/"
        },
        "id": "zhOLGHbRkd9P",
        "outputId": "e8a23e4c-c29d-4a58-ddc9-2de161cdf892"
      },
      "outputs": [
        {
          "name": "stdout",
          "output_type": "stream",
          "text": [
            "BERT model selected           : https://tfhub.dev/tensorflow/bert_en_uncased_L-12_H-768_A-12/3\n",
            "Preprocess model auto-selected: https://tfhub.dev/tensorflow/bert_en_uncased_preprocess/3\n"
          ]
        }
      ],
      "source": [
        "#@title Choose a BERT model to fine-tune\n",
        "\n",
        "bert_model_name = 'bert_en_uncased_L-12_H-768_A-12'  #@param [\"bert_en_uncased_L-12_H-768_A-12\", \"bert_en_cased_L-12_H-768_A-12\", \"bert_multi_cased_L-12_H-768_A-12\", \"small_bert/bert_en_uncased_L-2_H-128_A-2\", \"small_bert/bert_en_uncased_L-2_H-256_A-4\", \"small_bert/bert_en_uncased_L-2_H-512_A-8\", \"small_bert/bert_en_uncased_L-2_H-768_A-12\", \"small_bert/bert_en_uncased_L-4_H-128_A-2\", \"small_bert/bert_en_uncased_L-4_H-256_A-4\", \"small_bert/bert_en_uncased_L-4_H-512_A-8\", \"small_bert/bert_en_uncased_L-4_H-768_A-12\", \"small_bert/bert_en_uncased_L-6_H-128_A-2\", \"small_bert/bert_en_uncased_L-6_H-256_A-4\", \"small_bert/bert_en_uncased_L-6_H-512_A-8\", \"small_bert/bert_en_uncased_L-6_H-768_A-12\", \"small_bert/bert_en_uncased_L-8_H-128_A-2\", \"small_bert/bert_en_uncased_L-8_H-256_A-4\", \"small_bert/bert_en_uncased_L-8_H-512_A-8\", \"small_bert/bert_en_uncased_L-8_H-768_A-12\", \"small_bert/bert_en_uncased_L-10_H-128_A-2\", \"small_bert/bert_en_uncased_L-10_H-256_A-4\", \"small_bert/bert_en_uncased_L-10_H-512_A-8\", \"small_bert/bert_en_uncased_L-10_H-768_A-12\", \"small_bert/bert_en_uncased_L-12_H-128_A-2\", \"small_bert/bert_en_uncased_L-12_H-256_A-4\", \"small_bert/bert_en_uncased_L-12_H-512_A-8\", \"small_bert/bert_en_uncased_L-12_H-768_A-12\", \"albert_en_base\", \"electra_small\", \"electra_base\", \"experts_pubmed\", \"experts_wiki_books\", \"talking-heads_base\"]\n",
        "\n",
        "map_name_to_handle = {\n",
        "    'bert_en_uncased_L-12_H-768_A-12':\n",
        "        'https://tfhub.dev/tensorflow/bert_en_uncased_L-12_H-768_A-12/3',\n",
        "    'bert_en_cased_L-12_H-768_A-12':\n",
        "        'https://tfhub.dev/tensorflow/bert_en_cased_L-12_H-768_A-12/3',\n",
        "    'bert_multi_cased_L-12_H-768_A-12':\n",
        "        'https://tfhub.dev/tensorflow/bert_multi_cased_L-12_H-768_A-12/3',\n",
        "    'small_bert/bert_en_uncased_L-2_H-128_A-2':\n",
        "        'https://tfhub.dev/tensorflow/small_bert/bert_en_uncased_L-2_H-128_A-2/1',\n",
        "    'small_bert/bert_en_uncased_L-2_H-256_A-4':\n",
        "        'https://tfhub.dev/tensorflow/small_bert/bert_en_uncased_L-2_H-256_A-4/1',\n",
        "    'small_bert/bert_en_uncased_L-2_H-512_A-8':\n",
        "        'https://tfhub.dev/tensorflow/small_bert/bert_en_uncased_L-2_H-512_A-8/1',\n",
        "    'small_bert/bert_en_uncased_L-2_H-768_A-12':\n",
        "        'https://tfhub.dev/tensorflow/small_bert/bert_en_uncased_L-2_H-768_A-12/1',\n",
        "    'small_bert/bert_en_uncased_L-4_H-128_A-2':\n",
        "        'https://tfhub.dev/tensorflow/small_bert/bert_en_uncased_L-4_H-128_A-2/1',\n",
        "    'small_bert/bert_en_uncased_L-4_H-256_A-4':\n",
        "        'https://tfhub.dev/tensorflow/small_bert/bert_en_uncased_L-4_H-256_A-4/1',\n",
        "    'small_bert/bert_en_uncased_L-4_H-512_A-8':\n",
        "        'https://tfhub.dev/tensorflow/small_bert/bert_en_uncased_L-4_H-512_A-8/1',\n",
        "    'small_bert/bert_en_uncased_L-4_H-768_A-12':\n",
        "        'https://tfhub.dev/tensorflow/small_bert/bert_en_uncased_L-4_H-768_A-12/1',\n",
        "    'small_bert/bert_en_uncased_L-6_H-128_A-2':\n",
        "        'https://tfhub.dev/tensorflow/small_bert/bert_en_uncased_L-6_H-128_A-2/1',\n",
        "    'small_bert/bert_en_uncased_L-6_H-256_A-4':\n",
        "        'https://tfhub.dev/tensorflow/small_bert/bert_en_uncased_L-6_H-256_A-4/1',\n",
        "    'small_bert/bert_en_uncased_L-6_H-512_A-8':\n",
        "        'https://tfhub.dev/tensorflow/small_bert/bert_en_uncased_L-6_H-512_A-8/1',\n",
        "    'small_bert/bert_en_uncased_L-6_H-768_A-12':\n",
        "        'https://tfhub.dev/tensorflow/small_bert/bert_en_uncased_L-6_H-768_A-12/1',\n",
        "    'small_bert/bert_en_uncased_L-8_H-128_A-2':\n",
        "        'https://tfhub.dev/tensorflow/small_bert/bert_en_uncased_L-8_H-128_A-2/1',\n",
        "    'small_bert/bert_en_uncased_L-8_H-256_A-4':\n",
        "        'https://tfhub.dev/tensorflow/small_bert/bert_en_uncased_L-8_H-256_A-4/1',\n",
        "    'small_bert/bert_en_uncased_L-8_H-512_A-8':\n",
        "        'https://tfhub.dev/tensorflow/small_bert/bert_en_uncased_L-8_H-512_A-8/1',\n",
        "    'small_bert/bert_en_uncased_L-8_H-768_A-12':\n",
        "        'https://tfhub.dev/tensorflow/small_bert/bert_en_uncased_L-8_H-768_A-12/1',\n",
        "    'small_bert/bert_en_uncased_L-10_H-128_A-2':\n",
        "        'https://tfhub.dev/tensorflow/small_bert/bert_en_uncased_L-10_H-128_A-2/1',\n",
        "    'small_bert/bert_en_uncased_L-10_H-256_A-4':\n",
        "        'https://tfhub.dev/tensorflow/small_bert/bert_en_uncased_L-10_H-256_A-4/1',\n",
        "    'small_bert/bert_en_uncased_L-10_H-512_A-8':\n",
        "        'https://tfhub.dev/tensorflow/small_bert/bert_en_uncased_L-10_H-512_A-8/1',\n",
        "    'small_bert/bert_en_uncased_L-10_H-768_A-12':\n",
        "        'https://tfhub.dev/tensorflow/small_bert/bert_en_uncased_L-10_H-768_A-12/1',\n",
        "    'small_bert/bert_en_uncased_L-12_H-128_A-2':\n",
        "        'https://tfhub.dev/tensorflow/small_bert/bert_en_uncased_L-12_H-128_A-2/1',\n",
        "    'small_bert/bert_en_uncased_L-12_H-256_A-4':\n",
        "        'https://tfhub.dev/tensorflow/small_bert/bert_en_uncased_L-12_H-256_A-4/1',\n",
        "    'small_bert/bert_en_uncased_L-12_H-512_A-8':\n",
        "        'https://tfhub.dev/tensorflow/small_bert/bert_en_uncased_L-12_H-512_A-8/1',\n",
        "    'small_bert/bert_en_uncased_L-12_H-768_A-12':\n",
        "        'https://tfhub.dev/tensorflow/small_bert/bert_en_uncased_L-12_H-768_A-12/1',\n",
        "    'albert_en_base':\n",
        "        'https://tfhub.dev/tensorflow/albert_en_base/2',\n",
        "    'electra_small':\n",
        "        'https://tfhub.dev/google/electra_small/2',\n",
        "    'electra_base':\n",
        "        'https://tfhub.dev/google/electra_base/2',\n",
        "    'experts_pubmed':\n",
        "        'https://tfhub.dev/google/experts/bert/pubmed/2',\n",
        "    'experts_wiki_books':\n",
        "        'https://tfhub.dev/google/experts/bert/wiki_books/2',\n",
        "    'talking-heads_base':\n",
        "        'https://tfhub.dev/tensorflow/talkheads_ggelu_bert_en_base/1',\n",
        "}\n",
        "\n",
        "map_model_to_preprocess = {\n",
        "    'bert_en_uncased_L-12_H-768_A-12':\n",
        "        'https://tfhub.dev/tensorflow/bert_en_uncased_preprocess/3',\n",
        "    'bert_en_cased_L-12_H-768_A-12':\n",
        "        'https://tfhub.dev/tensorflow/bert_en_cased_preprocess/3',\n",
        "    'small_bert/bert_en_uncased_L-2_H-128_A-2':\n",
        "        'https://tfhub.dev/tensorflow/bert_en_uncased_preprocess/3',\n",
        "    'small_bert/bert_en_uncased_L-2_H-256_A-4':\n",
        "        'https://tfhub.dev/tensorflow/bert_en_uncased_preprocess/3',\n",
        "    'small_bert/bert_en_uncased_L-2_H-512_A-8':\n",
        "        'https://tfhub.dev/tensorflow/bert_en_uncased_preprocess/3',\n",
        "    'small_bert/bert_en_uncased_L-2_H-768_A-12':\n",
        "        'https://tfhub.dev/tensorflow/bert_en_uncased_preprocess/3',\n",
        "    'small_bert/bert_en_uncased_L-4_H-128_A-2':\n",
        "        'https://tfhub.dev/tensorflow/bert_en_uncased_preprocess/3',\n",
        "    'small_bert/bert_en_uncased_L-4_H-256_A-4':\n",
        "        'https://tfhub.dev/tensorflow/bert_en_uncased_preprocess/3',\n",
        "    'small_bert/bert_en_uncased_L-4_H-512_A-8':\n",
        "        'https://tfhub.dev/tensorflow/bert_en_uncased_preprocess/3',\n",
        "    'small_bert/bert_en_uncased_L-4_H-768_A-12':\n",
        "        'https://tfhub.dev/tensorflow/bert_en_uncased_preprocess/3',\n",
        "    'small_bert/bert_en_uncased_L-6_H-128_A-2':\n",
        "        'https://tfhub.dev/tensorflow/bert_en_uncased_preprocess/3',\n",
        "    'small_bert/bert_en_uncased_L-6_H-256_A-4':\n",
        "        'https://tfhub.dev/tensorflow/bert_en_uncased_preprocess/3',\n",
        "    'small_bert/bert_en_uncased_L-6_H-512_A-8':\n",
        "        'https://tfhub.dev/tensorflow/bert_en_uncased_preprocess/3',\n",
        "    'small_bert/bert_en_uncased_L-6_H-768_A-12':\n",
        "        'https://tfhub.dev/tensorflow/bert_en_uncased_preprocess/3',\n",
        "    'small_bert/bert_en_uncased_L-8_H-128_A-2':\n",
        "        'https://tfhub.dev/tensorflow/bert_en_uncased_preprocess/3',\n",
        "    'small_bert/bert_en_uncased_L-8_H-256_A-4':\n",
        "        'https://tfhub.dev/tensorflow/bert_en_uncased_preprocess/3',\n",
        "    'small_bert/bert_en_uncased_L-8_H-512_A-8':\n",
        "        'https://tfhub.dev/tensorflow/bert_en_uncased_preprocess/3',\n",
        "    'small_bert/bert_en_uncased_L-8_H-768_A-12':\n",
        "        'https://tfhub.dev/tensorflow/bert_en_uncased_preprocess/3',\n",
        "    'small_bert/bert_en_uncased_L-10_H-128_A-2':\n",
        "        'https://tfhub.dev/tensorflow/bert_en_uncased_preprocess/3',\n",
        "    'small_bert/bert_en_uncased_L-10_H-256_A-4':\n",
        "        'https://tfhub.dev/tensorflow/bert_en_uncased_preprocess/3',\n",
        "    'small_bert/bert_en_uncased_L-10_H-512_A-8':\n",
        "        'https://tfhub.dev/tensorflow/bert_en_uncased_preprocess/3',\n",
        "    'small_bert/bert_en_uncased_L-10_H-768_A-12':\n",
        "        'https://tfhub.dev/tensorflow/bert_en_uncased_preprocess/3',\n",
        "    'small_bert/bert_en_uncased_L-12_H-128_A-2':\n",
        "        'https://tfhub.dev/tensorflow/bert_en_uncased_preprocess/3',\n",
        "    'small_bert/bert_en_uncased_L-12_H-256_A-4':\n",
        "        'https://tfhub.dev/tensorflow/bert_en_uncased_preprocess/3',\n",
        "    'small_bert/bert_en_uncased_L-12_H-512_A-8':\n",
        "        'https://tfhub.dev/tensorflow/bert_en_uncased_preprocess/3',\n",
        "    'small_bert/bert_en_uncased_L-12_H-768_A-12':\n",
        "        'https://tfhub.dev/tensorflow/bert_en_uncased_preprocess/3',\n",
        "    'bert_multi_cased_L-12_H-768_A-12':\n",
        "        'https://tfhub.dev/tensorflow/bert_multi_cased_preprocess/3',\n",
        "    'albert_en_base':\n",
        "        'https://tfhub.dev/tensorflow/albert_en_preprocess/3',\n",
        "    'electra_small':\n",
        "        'https://tfhub.dev/tensorflow/bert_en_uncased_preprocess/3',\n",
        "    'electra_base':\n",
        "        'https://tfhub.dev/tensorflow/bert_en_uncased_preprocess/3',\n",
        "    'experts_pubmed':\n",
        "        'https://tfhub.dev/tensorflow/bert_en_uncased_preprocess/3',\n",
        "    'experts_wiki_books':\n",
        "        'https://tfhub.dev/tensorflow/bert_en_uncased_preprocess/3',\n",
        "    'talking-heads_base':\n",
        "        'https://tfhub.dev/tensorflow/bert_en_uncased_preprocess/3',\n",
        "}\n",
        "\n",
        "tfhub_handle_encoder = map_name_to_handle[bert_model_name]\n",
        "tfhub_handle_preprocess = map_model_to_preprocess[bert_model_name]\n",
        "\n",
        "print(f'BERT model selected           : {tfhub_handle_encoder}')\n",
        "print(f'Preprocess model auto-selected: {tfhub_handle_preprocess}')"
      ]
    },
    {
      "cell_type": "markdown",
      "metadata": {
        "id": "fNjF9NADlyW9"
      },
      "source": [
        "# Define encoder model"
      ]
    },
    {
      "cell_type": "code",
      "execution_count": null,
      "metadata": {
        "id": "fl_JbHookv7a"
      },
      "outputs": [],
      "source": [
        "def make_bert_preprocess_model(input_feature, seq_length=128):\n",
        "  \"\"\"Returns Model mapping string features to BERT inputs.\n",
        "\n",
        "  Args:\n",
        "    sentence_features: a list with the names of string-valued features.\n",
        "    seq_length: an integer that defines the sequence length of BERT inputs.\n",
        "\n",
        "  Returns:\n",
        "    A Keras Model that can be called on a list or dict of string Tensors\n",
        "    (with the order or names, resp., given by sentence_features) and\n",
        "    returns a dict of tensors for input to BERT.\n",
        "  \"\"\"\n",
        "\n",
        "  input = tf.keras.layers.Input(shape=(), dtype=tf.string, name=input_feature)\n",
        "\n",
        "  # Tokenize the text to word pieces.\n",
        "  bert_preprocess = hub.load(tfhub_handle_preprocess)\n",
        "  tokenizer = hub.KerasLayer(bert_preprocess.tokenize, name='tokenizer')\n",
        "  tokenized_input = tokenizer(input)\n",
        "\n",
        "  # Optional: Trim segments in a smart way to fit seq_length.\n",
        "  # Simple cases (like this example) can skip this step and let\n",
        "  # the next step apply a default truncation to approximately equal lengths.\n",
        "  #truncated_segments = segments\n",
        "\n",
        "  # Pack inputs. The details (start/end token ids, dict of output tensors)\n",
        "  # are model-dependent, so this gets loaded from the SavedModel.\n",
        "  packer = hub.KerasLayer(bert_preprocess.bert_pack_inputs,\n",
        "                          arguments=dict(seq_length=seq_length),\n",
        "                          name='packer')\n",
        "  model_inputs = packer([tokenized_input])\n",
        "  return tf.keras.Model(input, model_inputs)"
      ]
    },
    {
      "cell_type": "code",
      "execution_count": null,
      "metadata": {
        "id": "aYrXNUR2l89j"
      },
      "outputs": [],
      "source": [
        "def build_encoder_model():\n",
        "\n",
        "  class BertEncoder(tf.keras.Model):\n",
        "    def __init__(self):\n",
        "      super(BertEncoder, self).__init__(name=\"bert_encoder\")\n",
        "      self.encoder = hub.KerasLayer(tfhub_handle_encoder, trainable=False)\n",
        "\n",
        "    def call(self, preprocessed_text):\n",
        "      encoder_outputs = self.encoder(preprocessed_text)\n",
        "      pooled_output = encoder_outputs[\"pooled_output\"]\n",
        "      return pooled_output\n",
        "\n",
        "  model = BertEncoder()\n",
        "  return model"
      ]
    },
    {
      "cell_type": "markdown",
      "metadata": {
        "id": "TL86b6fQoKh7"
      },
      "source": [
        "## Test the encoder model"
      ]
    },
    {
      "cell_type": "code",
      "execution_count": null,
      "metadata": {
        "colab": {
          "base_uri": "https://localhost:8080/"
        },
        "id": "qnpAFI5WlJSO",
        "outputId": "1f30a50b-8ea9-4e3d-d3e2-4f94bffb9469"
      },
      "outputs": [
        {
          "name": "stdout",
          "output_type": "stream",
          "text": [
            "Keys           :  ['input_mask', 'input_type_ids', 'input_word_ids']\n",
            "Shape Word Ids :  (1, 512)\n",
            "Word Ids       :  tf.Tensor([101 102   0   0   0   0   0   0   0   0   0   0   0   0   0   0], shape=(16,), dtype=int32)\n",
            "Shape Mask     :  (1, 512)\n",
            "Input Mask     :  tf.Tensor([1 1 0 0 0 0 0 0 0 0 0 0 0 0 0 0], shape=(16,), dtype=int32)\n",
            "Shape Type Ids :  (1, 512)\n",
            "Type Ids       :  tf.Tensor([0 0 0 0 0 0 0 0 0 0 0 0 0 0 0 0], shape=(16,), dtype=int32)\n"
          ]
        }
      ],
      "source": [
        "test_preprocess_model = make_bert_preprocess_model('my_input', seq_length=512)\n",
        "test_text = np.array([''])\n",
        "text_preprocessed = test_preprocess_model(test_text)\n",
        "\n",
        "print('Keys           : ', list(text_preprocessed.keys()))\n",
        "print('Shape Word Ids : ', text_preprocessed['input_word_ids'].shape)\n",
        "print('Word Ids       : ', text_preprocessed['input_word_ids'][0, :16])\n",
        "print('Shape Mask     : ', text_preprocessed['input_mask'].shape)\n",
        "print('Input Mask     : ', text_preprocessed['input_mask'][0, :16])\n",
        "print('Shape Type Ids : ', text_preprocessed['input_type_ids'].shape)\n",
        "print('Type Ids       : ', text_preprocessed['input_type_ids'][0, :16])"
      ]
    },
    {
      "cell_type": "code",
      "execution_count": null,
      "metadata": {
        "id": "8KAVQipwlaME"
      },
      "outputs": [],
      "source": [
        "test_encoder_model = build_encoder_model()"
      ]
    },
    {
      "cell_type": "code",
      "execution_count": null,
      "metadata": {
        "colab": {
          "base_uri": "https://localhost:8080/"
        },
        "id": "xHkPe-vJn7BR",
        "outputId": "cf197d7d-d2cb-477c-b4ab-9ce6e1243e6a"
      },
      "outputs": [
        {
          "name": "stdout",
          "output_type": "stream",
          "text": [
            "tf.Tensor(\n",
            "[[-0.9061686  -0.30534935  0.3171521   0.83511347  0.4395665  -0.29972827\n",
            "   0.8893458   0.36543632 -0.22864583 -0.99962205 -0.7577885   0.8510732\n",
            "   0.99460214 -0.7135146   0.9438737  -0.67603296 -0.7742429  -0.40936226\n",
            "   0.44422138 -0.89821154  0.8173      0.99742836  0.36303943  0.2179146\n",
            "   0.2788157   0.97933036 -0.84844613  0.9776022   0.959225    0.6766515\n",
            "  -0.82754135  0.27336928 -0.99674845 -0.09600674 -0.6522807  -0.9957248\n",
            "   0.34605992 -0.817617   -0.13695836 -0.19245848 -0.97509336  0.46894208\n",
            "   0.9992123   0.91534936  0.6905341  -0.00565991 -0.9999982   0.13878094\n",
            "  -0.8992897   0.29528618  0.4055255   0.80721307 -0.11436047  0.4293809\n",
            "   0.24548663 -0.05618633  0.07560661  0.18532558 -0.08784298 -0.44802493\n",
            "  -0.32473582  0.19809651 -0.49014044 -0.9536841   0.7677338  -0.80937487\n",
            "  -0.4013765  -0.44057786  0.07018607 -0.09922893  0.81822723  0.31495848\n",
            "   0.36488968 -0.89640534 -0.61990035  0.09573567 -0.3418816   1.\n",
            "  -0.5366012  -0.9968454   0.59286726 -0.7698765   0.2586596   0.79967034\n",
            "  -0.9491451  -1.          0.4924831  -0.15215132 -0.9948779   0.22187681\n",
            "   0.7331658  -0.19855364 -0.4850989   0.2936496   0.6547367  -0.6602257\n",
            "  -0.3809555  -0.33836055 -0.37722012 -0.47482243  0.10310734 -0.11982943\n",
            "  -0.17624746 -0.03913783  0.24161176 -0.21123551 -0.76918876  0.13605876\n",
            "  -0.33314312  0.475026    0.17779298 -0.27254882  0.4832129  -0.9760113\n",
            "   0.4815963  -0.05584472 -0.99336785 -0.3739617  -0.9971337   0.8231873\n",
            "  -0.3236417  -0.15119417  0.9557812   0.2402213   0.23442718 -0.21111521\n",
            "  -0.63020766 -1.         -0.6069062  -0.57007146  0.5277771  -0.52330595\n",
            "  -0.9913971  -0.97926164  0.3752953   0.9515629   0.17957811  0.9982872\n",
            "  -0.36955798  0.97576225  0.4142814  -0.52317613  0.5212348  -0.43075725\n",
            "   0.6278971   0.61037636 -0.83403367  0.16208829 -0.30814105  0.5776606\n",
            "  -0.43416762 -0.4642652   0.29404864 -0.94963264 -0.15316159  0.97917354\n",
            "  -0.5156317   0.5508176   0.80558616 -0.38142872 -0.6439649   0.80273706\n",
            "   0.7391536   0.24249792  0.2673939   0.17192745 -0.8582717   0.41699877\n",
            "  -0.840043   -0.2737275   0.32704988 -0.46377108  0.19327962 -0.9963735\n",
            "  -0.47487146  0.46367776  0.9941204   0.8450584   0.03699287  0.5996927\n",
            "   0.00179589  0.72394097 -0.97462404  0.9938848  -0.17801176 -0.04859699\n",
            "  -0.0608862  -0.20955703 -0.91701573 -0.568933    0.87222695 -0.7532471\n",
            "  -0.95855826 -0.28751698 -0.07104661 -0.5362122  -0.8760959   0.90523076\n",
            "  -0.22569752 -0.19016679 -0.21187462  0.9127223   0.9795679   0.89855576\n",
            "  -0.0821949   0.6492597  -0.9655628  -0.7366906   0.1429618   0.23538218\n",
            "   0.3251347   0.9982093   0.26992023 -0.2347119  -0.85664916 -0.9928036\n",
            "   0.05436542 -0.9522224  -0.14831734 -0.52408916  0.3956001  -0.24055417\n",
            "  -0.70351946  0.32816756 -0.99314564 -0.8586229   0.40758935 -0.17560798\n",
            "   0.31838113  0.03448711  0.7932594   0.47105688 -0.42753518  0.88573265\n",
            "   0.8814641  -0.57225776 -0.9518132   0.8707088  -0.07177602  0.8573624\n",
            "  -0.64133126  0.9845892   0.54752326  0.8401083  -0.9892053   0.57203895\n",
            "  -0.85291386  0.61448634 -0.3833241  -0.957329   -0.60667086  0.18003263\n",
            "   0.4598519   0.9651026  -0.77962655  0.9978229  -0.6904645  -0.9866598\n",
            "  -0.36181802  0.2482621  -0.9971457   0.89317423  0.2441384   0.5040358\n",
            "  -0.4586481  -0.5323525  -0.99314296  0.9826349   0.28274488  0.98825175\n",
            "  -0.2794914  -0.9423382  -0.52264816 -0.9881989   0.15191318 -0.11875503\n",
            "   0.62785184  0.04709188 -0.9472798   0.49425128  0.6869181   0.5139955\n",
            "   0.44359982  0.99723834  0.99999064  0.9874818   0.879933    0.8090608\n",
            "  -0.9950509  -0.21390864  0.99945205 -0.97173965 -1.         -0.948883\n",
            "  -0.59084237  0.63627654 -1.         -0.22376205 -0.16276498 -0.9758663\n",
            "  -0.15067323  0.99275017  0.9939475  -1.          0.8781182   0.9751265\n",
            "  -0.3558157   0.8962638  -0.32402903  0.9931466   0.39190578  0.4414517\n",
            "  -0.12108933  0.31852755 -0.2999323  -0.8484304  -0.13470493 -0.22356704\n",
            "   0.904935    0.26396126 -0.6668271  -0.92081267  0.46909872 -0.4214051\n",
            "   0.09807262 -0.97639537 -0.09805351  0.6458511   0.82643265  0.15180276\n",
            "   0.11948453 -0.82493263  0.29548025 -0.7739626   0.16543505  0.37263638\n",
            "  -0.8396642  -0.82575625 -0.9260253   0.23794197  0.42585564 -0.95273095\n",
            "   0.9650387  -0.06391741  0.8587856   1.          0.5923523  -0.9384083\n",
            "   0.58667576  0.33734733 -0.79872626  1.          0.67329574 -0.9929469\n",
            "  -0.11994836 -0.13176197 -0.35982668 -0.4222167   0.9960146  -0.28821623\n",
            "   0.29495347 -0.2812266   0.99598897 -0.99703556  0.70512277 -0.88121367\n",
            "  -0.9895799   0.97540796  0.9877755  -0.1950266  -0.6893527   0.11900301\n",
            "   0.8024241   0.5138307  -0.9005684   0.84152377  0.787433   -0.33031476\n",
            "   0.9391118  -0.86983246 -0.01444017  0.21344891 -0.00329432 -0.2518695\n",
            "   0.38321543  0.39918065 -0.29875872  0.01466078 -0.25076342 -0.49849805\n",
            "  -0.9459926   0.3300467   1.         -0.43391111  0.63454324  0.54941\n",
            "  -0.00252848  0.07101218  0.32057625  0.35116774 -0.39915052 -0.6767107\n",
            "   0.7063823  -0.93954664 -0.99404407  0.8646613   0.02028535 -0.11574182\n",
            "   0.99993765  0.32819924  0.26381713  0.21664014  0.954378   -0.18775241\n",
            "  -0.10042164 -0.528949    0.99233    -0.31479928  0.18498498  0.9067982\n",
            "  -0.0051299  -0.48897433 -0.5212426   0.19360332 -0.9527281  -0.08444707\n",
            "  -0.979622    0.9881349   0.6779082   0.43462273  0.14062613  0.6015894\n",
            "   1.         -0.7521762   0.7846856  -0.81513065  0.87423766 -0.9548008\n",
            "  -0.7154304  -0.19069137 -0.01577029  0.45842937 -0.28917778  0.43495595\n",
            "  -0.988619   -0.29791793  0.5739126  -0.974126   -0.9955021   0.22969103\n",
            "   0.7329862   0.16048604 -0.96099514 -0.721341   -0.78955644  0.79847527\n",
            "  -0.37574777 -0.98316604  0.59708387 -0.28498977  0.5373521  -0.4086759\n",
            "   0.3988694  -0.7963878   0.972692    0.07139926 -0.23981528 -0.33488387\n",
            "  -0.9241655   0.898704   -0.7819525  -0.8381691  -0.01303043  1.\n",
            "  -0.4054527   0.22997503  0.80911905  0.7719553  -0.23427019  0.14471361\n",
            "  -0.01302445  0.37581667  0.892013   -0.61699927 -0.9070377  -0.15986635\n",
            "   0.0866131   0.35258216 -0.9200874   0.9073158   0.35158613  0.33909318\n",
            "  -0.00370004  0.15821396  0.9981398  -0.3621446  -0.07240946 -0.2879725\n",
            "  -0.2770837  -0.22656283 -0.53673685  1.          0.1893817   0.27231964\n",
            "  -0.99793273 -0.6282128  -0.9412191   0.99998206  0.95878994 -0.76245433\n",
            "   0.63606095  0.574877    0.10199577  0.814263   -0.3442098  -0.1678637\n",
            "   0.22475138  0.23293947  0.9824477  -0.5304846  -0.9960628  -0.69438463\n",
            "   0.55839694 -0.9508059   0.99337053 -0.3710648   0.03756889 -0.17504455\n",
            "  -0.5196409   0.9364238   0.13139084 -0.9876789  -0.3551982   0.47854277\n",
            "   0.99522823  0.26706347 -0.22864562 -0.9728058   0.34247118  0.52710134\n",
            "  -0.5548342  -0.9816939   0.99329644 -0.9720251   0.564294    1.\n",
            "   0.18274482  0.3033372   0.17568718 -0.34321824  0.28162906 -0.6726302\n",
            "   0.7221755  -0.9787947  -0.14506309  0.10387719  0.3529562  -0.16002293\n",
            "  -0.12796505  0.8813035   0.11076771 -0.09990896 -0.34273553 -0.2840612\n",
            "   0.411956    0.90020245  0.01091712 -0.15409626  0.3151515  -0.05288959\n",
            "  -0.9545504  -0.36251673 -0.25526607 -0.9991047   0.61925566 -1.\n",
            "   0.37505966 -0.8555404  -0.1781954   0.92596173  0.369016    0.06904718\n",
            "  -0.91631794  0.3038027   0.87404406  0.8472676  -0.5387161  -0.648337\n",
            "  -0.9037749   0.3310189  -0.13043454  0.31066775 -0.1509705   0.42048556\n",
            "  -0.22433566  1.         -0.04215832 -0.49511528 -0.9761422   0.01302575\n",
            "  -0.28297046  0.9999966  -0.92127055 -0.9891103   0.16393216 -0.68084264\n",
            "  -0.8809168   0.30361596  0.1587702  -0.76137733 -0.89227635  0.922482\n",
            "   0.791377   -0.28707805  0.5875905  -0.3108088  -0.2852774   0.17375983\n",
            "   0.5132322   0.9979713   0.47685286  0.93894416  0.19197111 -0.3147717\n",
            "   0.9703695   0.17235856  0.87226284  0.13503547  1.          0.27833846\n",
            "  -0.949503   -0.58124804 -0.96772933 -0.22089367 -0.9374956   0.11718024\n",
            "   0.19665094  0.95882773 -0.4681837   0.99359554 -0.58030105  0.09312933\n",
            "  -0.75040007  0.25695997  0.17593727 -0.9778359  -0.9937407  -0.9976449\n",
            "   0.6491396  -0.26161915 -0.07812143  0.25250754  0.14277504  0.39747578\n",
            "   0.31016257 -1.          0.95241696  0.47383985 -0.6905835   0.9915492\n",
            "   0.46175668  0.69381684  0.30287775 -0.9955436  -0.9914887  -0.15058008\n",
            "  -0.2772932   0.85707957  0.64218014  0.8057856   0.43273517 -0.28315926\n",
            "  -0.3676878  -0.19572058 -0.23965468 -0.9979543   0.5409368   0.5437845\n",
            "  -0.963771    0.9714328  -0.9049869  -0.07232295  0.8414034  -0.22747776\n",
            "   0.96340936  0.5374278   0.8340572   0.08058884  0.789298    0.9762515\n",
            "   0.9290265   0.9963597   0.23959793  0.69489217 -0.22720012  0.5038865\n",
            "   0.8094404  -0.96117985  0.20828983  0.5909689  -0.01445232  0.2746984\n",
            "  -0.3580064  -0.9098884   0.8226216  -0.20210871  0.76520586 -0.08723348\n",
            "  -0.15957363 -0.46430513 -0.2931956  -0.7806785  -0.795866    0.3256549\n",
            "   0.5776071   0.9696487   0.52058756 -0.19248576 -0.8563745  -0.2856204\n",
            "   0.86911136 -0.9672476   0.9427815  -0.25981435  0.9541187   0.36131024\n",
            "   0.21016933  0.72094494 -0.3111948  -0.2997147  -0.18072431 -0.8328197\n",
            "   0.8513279  -0.33766383 -0.59203523 -0.7095309   0.81929785  0.42969576\n",
            "   0.99960554  0.5861621  -0.0643779  -0.6747043  -0.31571293  0.2069828\n",
            "  -0.5924906  -1.          0.22165923 -0.14373313 -0.12775138 -0.8432239\n",
            "   0.30084392 -0.56986284 -0.97731006 -0.23162535  0.29454684  0.35308456\n",
            "  -0.26966086 -0.7820343   0.13395841  0.10519788  0.9555118   0.94423324\n",
            "  -0.7189311   0.9297982   0.38435912  0.01538015 -0.31073168  0.91061556]], shape=(1, 768), dtype=float32)\n"
          ]
        }
      ],
      "source": [
        "bert_result = test_encoder_model(text_preprocessed)\n",
        "print(bert_result)"
      ]
    },
    {
      "cell_type": "markdown",
      "metadata": {
        "id": "wJgJrV5IoPI8"
      },
      "source": [
        "# Encode YAudit data"
      ]
    },
    {
      "cell_type": "code",
      "execution_count": null,
      "metadata": {
        "colab": {
          "base_uri": "https://localhost:8080/"
        },
        "id": "ofPeNbFGoDBN",
        "outputId": "fc58923a-3974-48ae-aee1-6fe652d594e8"
      },
      "outputs": [
        {
          "name": "stdout",
          "output_type": "stream",
          "text": [
            "Drive already mounted at /content/gdrive; to attempt to forcibly remount, call drive.mount(\"/content/gdrive\", force_remount=True).\n"
          ]
        }
      ],
      "source": [
        "from google.colab import drive\n",
        "drive.mount('/content/gdrive')"
      ]
    },
    {
      "cell_type": "code",
      "execution_count": null,
      "metadata": {
        "id": "JQxJrO-6xGPq"
      },
      "outputs": [],
      "source": [
        "import pandas as pd\n",
        "from tqdm import tqdm\n",
        "import pickle\n",
        "import os"
      ]
    },
    {
      "cell_type": "code",
      "execution_count": null,
      "metadata": {
        "id": "AsRwWAqgyUlF"
      },
      "outputs": [],
      "source": [
        "videos = pd.read_csv('/content/gdrive/MyDrive/YAudit_data/annotated-data.csv')"
      ]
    },
    {
      "cell_type": "code",
      "execution_count": null,
      "metadata": {
        "colab": {
          "base_uri": "https://localhost:8080/"
        },
        "id": "k8K0TU7d240D",
        "outputId": "09ad6037-c8d1-4368-f989-4c8d6a51eb7f"
      },
      "outputs": [
        {
          "name": "stdout",
          "output_type": "stream",
          "text": [
            "<class 'pandas.core.frame.DataFrame'>\n",
            "RangeIndex: 2622 entries, 0 to 2621\n",
            "Data columns (total 40 columns):\n",
            " #   Column                     Non-Null Count  Dtype  \n",
            "---  ------                     --------------  -----  \n",
            " 0   is_deleted                 2622 non-null   bool   \n",
            " 1   deleted_at                 0 non-null      float64\n",
            " 2   uuid                       2622 non-null   object \n",
            " 3   published_at               2622 non-null   object \n",
            " 4   title                      2622 non-null   object \n",
            " 5   description                2589 non-null   object \n",
            " 6   default_language           771 non-null    object \n",
            " 7   default_audio_language     1781 non-null   object \n",
            " 8   duration                   2622 non-null   object \n",
            " 9   dimension                  2622 non-null   object \n",
            " 10  definition                 2622 non-null   object \n",
            " 11  caption                    2622 non-null   bool   \n",
            " 12  licensed_content           2622 non-null   bool   \n",
            " 13  projection                 2622 non-null   object \n",
            " 14  has_custom_thumbnail       0 non-null      float64\n",
            " 15  upload_status              2622 non-null   object \n",
            " 16  failure_reason             0 non-null      float64\n",
            " 17  rejection_reason           0 non-null      float64\n",
            " 18  privacy_status             2622 non-null   object \n",
            " 19  licence                    2622 non-null   object \n",
            " 20  embeddable                 2622 non-null   bool   \n",
            " 21  public_stats_viewable      2622 non-null   bool   \n",
            " 22  view_count                 2609 non-null   float64\n",
            " 23  like_count                 2581 non-null   float64\n",
            " 24  dislike_count              2116 non-null   float64\n",
            " 25  favourite_count            2622 non-null   int64  \n",
            " 26  comment_count              2478 non-null   float64\n",
            " 27  category_id                0 non-null      float64\n",
            " 28  thumbnail_id               2622 non-null   int64  \n",
            " 29  created_at                 2622 non-null   object \n",
            " 30  updated_at                 2622 non-null   object \n",
            " 31  extraction_id              2622 non-null   int64  \n",
            " 32  monitor_id                 2622 non-null   int64  \n",
            " 33  id                         2622 non-null   int64  \n",
            " 34  channel_id                 2622 non-null   int64  \n",
            " 35  deleted_by_youtube         2622 non-null   bool   \n",
            " 36  transcript                 2240 non-null   object \n",
            " 37  auto_generated_transcript  2622 non-null   bool   \n",
            " 38  clean_transcript           2622 non-null   object \n",
            " 39  annotation                 2622 non-null   object \n",
            "dtypes: bool(7), float64(9), int64(6), object(18)\n",
            "memory usage: 694.0+ KB\n"
          ]
        }
      ],
      "source": [
        "videos.info()"
      ]
    },
    {
      "cell_type": "code",
      "execution_count": null,
      "metadata": {
        "id": "Wn6N_T_I0Ilp"
      },
      "outputs": [],
      "source": [
        "preprocess_model = make_bert_preprocess_model('text_input', seq_length=512)\n",
        "encoder_model = build_encoder_model()"
      ]
    },
    {
      "cell_type": "code",
      "execution_count": null,
      "metadata": {
        "id": "sUABBOCf93BL"
      },
      "outputs": [],
      "source": [
        "def load_data(filepath):\n",
        "  data = {}\n",
        "  base_path = '/content/gdrive/MyDrive/YAudit_data/'\n",
        "  if os.path.exists(f'{base_path}{filepath}'):\n",
        "    with open(f'{base_path}{filepath}', 'rb') as file:\n",
        "      data = pickle.load(file)\n",
        "  \n",
        "  return data\n",
        "\n",
        "def dump_data(data, filepath):\n",
        "  base_path = '/content/gdrive/MyDrive/YAudit_data/'\n",
        "  with open(f'{base_path}{filepath}', 'wb') as file:\n",
        "      pickle.dump(data, file)"
      ]
    },
    {
      "cell_type": "markdown",
      "metadata": {
        "id": "mjmKWc1OQ6it"
      },
      "source": [
        "## Snippets"
      ]
    },
    {
      "cell_type": "code",
      "execution_count": null,
      "metadata": {
        "id": "tDzOtsfMbyID"
      },
      "outputs": [],
      "source": [
        "snippets_pickle = 'video_snippets.pickle'\n",
        "all_video_snippets = load_data(snippets_pickle)"
      ]
    },
    {
      "cell_type": "code",
      "execution_count": null,
      "metadata": {
        "colab": {
          "base_uri": "https://localhost:8080/"
        },
        "id": "pUPzEoOL1mvv",
        "outputId": "a8fe0910-96d7-4b4c-ee99-ddc7d41cc02d"
      },
      "outputs": [
        {
          "name": "stderr",
          "output_type": "stream",
          "text": [
            "100%|██████████| 2622/2622 [1:43:42<00:00,  2.37s/it]\n"
          ]
        }
      ],
      "source": [
        "with tqdm(total=len(videos)) as pbar:\n",
        "  for i, video in videos.iterrows():\n",
        "    if video['uuid'] in all_video_snippets:\n",
        "      #print('pass')\n",
        "      pbar.update(1)\n",
        "      continue\n",
        "    \n",
        "    snippet_text = np.array([f\"{video['title']}. {video['description']}\"])\n",
        "    preprocessed_text = preprocess_model(snippet_text)\n",
        "    encoded_text = encoder_model(preprocessed_text)\n",
        "    all_video_snippets[video['uuid']] = encoded_text\n",
        "    if (i % 10) == 0:\n",
        "      dump_data(all_video_snippets, snippets_pickle)\n",
        "    pbar.update(1)\n",
        "  dump_data(all_video_snippets, snippets_pickle)"
      ]
    },
    {
      "cell_type": "code",
      "execution_count": null,
      "metadata": {
        "colab": {
          "base_uri": "https://localhost:8080/"
        },
        "id": "A_buNi56E1pp",
        "outputId": "922c5ce9-b17b-4a1e-d47f-a1c60fa0486d"
      },
      "outputs": [
        {
          "data": {
            "text/plain": [
              "2622"
            ]
          },
          "execution_count": 29,
          "metadata": {},
          "output_type": "execute_result"
        }
      ],
      "source": [
        "len(all_video_snippets)"
      ]
    },
    {
      "cell_type": "markdown",
      "metadata": {
        "id": "Hiiw4wG3Q_Rg"
      },
      "source": [
        "## Transcripts"
      ]
    },
    {
      "cell_type": "code",
      "execution_count": null,
      "metadata": {
        "id": "PxSoI-VyRksD"
      },
      "outputs": [],
      "source": [
        "import re\n",
        "\n",
        "\n",
        "def remove_tags(text):\n",
        "    \"\"\"\n",
        "    Remove vtt markup tags\n",
        "    \"\"\"\n",
        "    tags = [\n",
        "        r'</c>',\n",
        "        r'<c(\\.color\\w+)?>',\n",
        "        r'<\\d{2}:\\d{2}:\\d{2}\\.\\d{3}>',\n",
        "\n",
        "    ]\n",
        "\n",
        "    for pat in tags:\n",
        "        text = re.sub(pat, '', text)\n",
        "\n",
        "    # extract timestamp, only kep HH:MM\n",
        "    text = re.sub(\n",
        "        r'(\\d{2}:\\d{2}):\\d{2}\\.\\d{3} --> .* align:start position:0%',\n",
        "        r'\\g<1>',\n",
        "        text\n",
        "    )\n",
        "\n",
        "    text = re.sub(r'^\\s+$', '', text, flags=re.MULTILINE)\n",
        "    return text\n",
        "\n",
        "def remove_header(lines):\n",
        "    \"\"\"\n",
        "    Remove vtt file header\n",
        "    \"\"\"\n",
        "    pos = -1\n",
        "    for mark in ('##', 'Language: en',):\n",
        "        if mark in lines:\n",
        "            pos = lines.index(mark)\n",
        "    lines = lines[pos+1:]\n",
        "    return lines\n",
        "\n",
        "\n",
        "def merge_duplicates(lines):\n",
        "    \"\"\"\n",
        "    Remove duplicated subtitles. Duplacates are always adjacent.\n",
        "    \"\"\"\n",
        "    last_timestamp = ''\n",
        "    last_cap = ''\n",
        "    for line in lines:\n",
        "        if line == \"\":\n",
        "            continue\n",
        "        if re.match('^\\d{2}:\\d{2}$', line):\n",
        "            if line != last_timestamp:\n",
        "#                 yield line\n",
        "                last_timestamp = line\n",
        "        else:\n",
        "            if line != last_cap:\n",
        "                yield line\n",
        "                last_cap = line\n",
        "\n",
        "\n",
        "def merge_short_lines(lines):\n",
        "    buffer = ''\n",
        "    for line in lines:\n",
        "        if line == \"\" or re.match('^\\d{2}:\\d{2}$', line):\n",
        "            yield '\\n' + line\n",
        "            continue\n",
        "\n",
        "        if len(line+buffer) < 80:\n",
        "            buffer += ' ' + line\n",
        "        else:\n",
        "            yield buffer.strip()\n",
        "            buffer = line\n",
        "    yield buffer\n",
        "\n",
        "\n",
        "def parse_transcript(text):\n",
        "    text = remove_tags(text)\n",
        "    lines = text.splitlines()\n",
        "    lines = remove_header(lines)\n",
        "    lines = merge_duplicates(lines)\n",
        "    lines = list(lines)\n",
        "    lines = merge_short_lines(lines)\n",
        "    lines = list(lines)\n",
        "    result = ' '.join(lines)\n",
        "    return re.sub('\\d{2}:\\d{2}:\\d{2}\\.\\d{3} --> \\d{2}:\\d{2}:\\d{2}\\.\\d{3} ', '', result)"
      ]
    },
    {
      "cell_type": "code",
      "execution_count": null,
      "metadata": {
        "id": "Y1rqsl4tUKeB"
      },
      "outputs": [],
      "source": [
        "videos['clean_transcript_old'] = videos['clean_transcript']\n",
        "videos['clean_transcript'] = videos['transcript'].apply(lambda transcript: parse_transcript(str(transcript)))"
      ]
    },
    {
      "cell_type": "code",
      "execution_count": null,
      "metadata": {
        "id": "kGWwGjNxWMXh"
      },
      "outputs": [],
      "source": [
        "transcripts_pickle = 'video_transcripts.pickle'\n",
        "all_video_transcripts = load_data(transcripts_pickle)"
      ]
    },
    {
      "cell_type": "code",
      "execution_count": null,
      "metadata": {
        "colab": {
          "base_uri": "https://localhost:8080/"
        },
        "id": "ZWyO_8h9WiPv",
        "outputId": "8f37e5c2-101d-42fd-acd0-de8b3dc27214"
      },
      "outputs": [
        {
          "name": "stderr",
          "output_type": "stream",
          "text": [
            "100%|██████████| 2622/2622 [1:55:31<00:00,  2.64s/it]\n"
          ]
        }
      ],
      "source": [
        "with tqdm(total=len(videos)) as pbar:\n",
        "  for i, video in videos.iterrows():\n",
        "    if video['uuid'] in all_video_transcripts:\n",
        "      #print('pass')\n",
        "      pbar.update(1)\n",
        "      continue\n",
        "    \n",
        "    transcript_text = np.array([video['clean_transcript']])\n",
        "    preprocessed_text = preprocess_model(transcript_text)\n",
        "    encoded_text = encoder_model(preprocessed_text)\n",
        "    all_video_transcripts[video['uuid']] = encoded_text\n",
        "    if (i % 10) == 0:\n",
        "      dump_data(all_video_transcripts, transcripts_pickle)\n",
        "    pbar.update(1)\n",
        "  dump_data(all_video_transcripts, transcripts_pickle)"
      ]
    },
    {
      "cell_type": "code",
      "execution_count": null,
      "metadata": {
        "colab": {
          "base_uri": "https://localhost:8080/"
        },
        "id": "N7xdzOlOYjFJ",
        "outputId": "f104834c-26d2-4466-d174-63f6c5c2c39d"
      },
      "outputs": [
        {
          "data": {
            "text/plain": [
              "2622"
            ]
          },
          "execution_count": 19,
          "metadata": {},
          "output_type": "execute_result"
        }
      ],
      "source": [
        "len(all_video_transcripts)"
      ]
    },
    {
      "cell_type": "markdown",
      "metadata": {
        "id": "LE17x97-2GPr"
      },
      "source": [
        "## Comments"
      ]
    },
    {
      "cell_type": "code",
      "execution_count": null,
      "metadata": {
        "id": "Bw8xHOJV0LEH"
      },
      "outputs": [],
      "source": [
        "comments = pd.read_csv('/content/gdrive/MyDrive/YAudit_data/youtube-comments.csv')"
      ]
    },
    {
      "cell_type": "code",
      "execution_count": null,
      "metadata": {
        "id": "_GGQX9dN2gsX"
      },
      "outputs": [],
      "source": [
        "video_uuids = videos.set_index('id')['uuid'].to_dict()\n",
        "comments['video_uuid'] = comments['video_id'].apply(video_uuids.get)\n",
        "comments = comments.loc[~comments['video_uuid'].isna()]"
      ]
    },
    {
      "cell_type": "code",
      "execution_count": null,
      "metadata": {
        "colab": {
          "base_uri": "https://localhost:8080/"
        },
        "id": "bOQfUq-x2p3H",
        "outputId": "9748ad7a-e480-4fd4-a597-2736f17b4056"
      },
      "outputs": [
        {
          "data": {
            "text/plain": [
              "(444605, 26)"
            ]
          },
          "execution_count": 15,
          "metadata": {},
          "output_type": "execute_result"
        }
      ],
      "source": [
        "comments.shape"
      ]
    },
    {
      "cell_type": "code",
      "execution_count": null,
      "metadata": {
        "colab": {
          "base_uri": "https://localhost:8080/",
          "height": 269
        },
        "id": "TyuqBAVq9QLu",
        "outputId": "a2d75e9a-210c-4dc5-b39e-8d5d19157c1d"
      },
      "outputs": [
        {
          "data": {
            "text/html": [
              "\n",
              "  <div id=\"df-c9f7aec2-4bc3-46b4-9490-eca04f354762\">\n",
              "    <div class=\"colab-df-container\">\n",
              "      <div>\n",
              "<style scoped>\n",
              "    .dataframe tbody tr th:only-of-type {\n",
              "        vertical-align: middle;\n",
              "    }\n",
              "\n",
              "    .dataframe tbody tr th {\n",
              "        vertical-align: top;\n",
              "    }\n",
              "\n",
              "    .dataframe thead th {\n",
              "        text-align: right;\n",
              "    }\n",
              "</style>\n",
              "<table border=\"1\" class=\"dataframe\">\n",
              "  <thead>\n",
              "    <tr style=\"text-align: right;\">\n",
              "      <th></th>\n",
              "      <th>text_display</th>\n",
              "    </tr>\n",
              "  </thead>\n",
              "  <tbody>\n",
              "    <tr>\n",
              "      <th>200801</th>\n",
              "      <td>&lt;a href=\"about:invalid#zCSafez\"&gt;&lt;/a&gt;</td>\n",
              "    </tr>\n",
              "    <tr>\n",
              "      <th>332999</th>\n",
              "      <td>&lt;a href=\"about:invalid#zCSafez\"&gt;&lt;/a&gt;</td>\n",
              "    </tr>\n",
              "    <tr>\n",
              "      <th>381745</th>\n",
              "      <td>&lt;a href=\"about:invalid#zCSafez\"&gt;&lt;/a&gt;</td>\n",
              "    </tr>\n",
              "    <tr>\n",
              "      <th>389751</th>\n",
              "      <td>&lt;a href=\"about:invalid#zCSafez\"&gt;&lt;/a&gt;</td>\n",
              "    </tr>\n",
              "    <tr>\n",
              "      <th>396454</th>\n",
              "      <td>&lt;a href=\"about:invalid#zCSafez\"&gt;&lt;/a&gt;</td>\n",
              "    </tr>\n",
              "    <tr>\n",
              "      <th>467200</th>\n",
              "      <td>&lt;a href=\"about:invalid#zCSafez\"&gt;&lt;/a&gt;</td>\n",
              "    </tr>\n",
              "    <tr>\n",
              "      <th>478880</th>\n",
              "      <td>&lt;a href=\"about:invalid#zCSafez\"&gt;&lt;/a&gt;</td>\n",
              "    </tr>\n",
              "  </tbody>\n",
              "</table>\n",
              "</div>\n",
              "      <button class=\"colab-df-convert\" onclick=\"convertToInteractive('df-c9f7aec2-4bc3-46b4-9490-eca04f354762')\"\n",
              "              title=\"Convert this dataframe to an interactive table.\"\n",
              "              style=\"display:none;\">\n",
              "        \n",
              "  <svg xmlns=\"http://www.w3.org/2000/svg\" height=\"24px\"viewBox=\"0 0 24 24\"\n",
              "       width=\"24px\">\n",
              "    <path d=\"M0 0h24v24H0V0z\" fill=\"none\"/>\n",
              "    <path d=\"M18.56 5.44l.94 2.06.94-2.06 2.06-.94-2.06-.94-.94-2.06-.94 2.06-2.06.94zm-11 1L8.5 8.5l.94-2.06 2.06-.94-2.06-.94L8.5 2.5l-.94 2.06-2.06.94zm10 10l.94 2.06.94-2.06 2.06-.94-2.06-.94-.94-2.06-.94 2.06-2.06.94z\"/><path d=\"M17.41 7.96l-1.37-1.37c-.4-.4-.92-.59-1.43-.59-.52 0-1.04.2-1.43.59L10.3 9.45l-7.72 7.72c-.78.78-.78 2.05 0 2.83L4 21.41c.39.39.9.59 1.41.59.51 0 1.02-.2 1.41-.59l7.78-7.78 2.81-2.81c.8-.78.8-2.07 0-2.86zM5.41 20L4 18.59l7.72-7.72 1.47 1.35L5.41 20z\"/>\n",
              "  </svg>\n",
              "      </button>\n",
              "      \n",
              "  <style>\n",
              "    .colab-df-container {\n",
              "      display:flex;\n",
              "      flex-wrap:wrap;\n",
              "      gap: 12px;\n",
              "    }\n",
              "\n",
              "    .colab-df-convert {\n",
              "      background-color: #E8F0FE;\n",
              "      border: none;\n",
              "      border-radius: 50%;\n",
              "      cursor: pointer;\n",
              "      display: none;\n",
              "      fill: #1967D2;\n",
              "      height: 32px;\n",
              "      padding: 0 0 0 0;\n",
              "      width: 32px;\n",
              "    }\n",
              "\n",
              "    .colab-df-convert:hover {\n",
              "      background-color: #E2EBFA;\n",
              "      box-shadow: 0px 1px 2px rgba(60, 64, 67, 0.3), 0px 1px 3px 1px rgba(60, 64, 67, 0.15);\n",
              "      fill: #174EA6;\n",
              "    }\n",
              "\n",
              "    [theme=dark] .colab-df-convert {\n",
              "      background-color: #3B4455;\n",
              "      fill: #D2E3FC;\n",
              "    }\n",
              "\n",
              "    [theme=dark] .colab-df-convert:hover {\n",
              "      background-color: #434B5C;\n",
              "      box-shadow: 0px 1px 3px 1px rgba(0, 0, 0, 0.15);\n",
              "      filter: drop-shadow(0px 1px 2px rgba(0, 0, 0, 0.3));\n",
              "      fill: #FFFFFF;\n",
              "    }\n",
              "  </style>\n",
              "\n",
              "      <script>\n",
              "        const buttonEl =\n",
              "          document.querySelector('#df-c9f7aec2-4bc3-46b4-9490-eca04f354762 button.colab-df-convert');\n",
              "        buttonEl.style.display =\n",
              "          google.colab.kernel.accessAllowed ? 'block' : 'none';\n",
              "\n",
              "        async function convertToInteractive(key) {\n",
              "          const element = document.querySelector('#df-c9f7aec2-4bc3-46b4-9490-eca04f354762');\n",
              "          const dataTable =\n",
              "            await google.colab.kernel.invokeFunction('convertToInteractive',\n",
              "                                                     [key], {});\n",
              "          if (!dataTable) return;\n",
              "\n",
              "          const docLinkHtml = 'Like what you see? Visit the ' +\n",
              "            '<a target=\"_blank\" href=https://colab.research.google.com/notebooks/data_table.ipynb>data table notebook</a>'\n",
              "            + ' to learn more about interactive tables.';\n",
              "          element.innerHTML = '';\n",
              "          dataTable['output_type'] = 'display_data';\n",
              "          await google.colab.output.renderOutput(dataTable, element);\n",
              "          const docLink = document.createElement('div');\n",
              "          docLink.innerHTML = docLinkHtml;\n",
              "          element.appendChild(docLink);\n",
              "        }\n",
              "      </script>\n",
              "    </div>\n",
              "  </div>\n",
              "  "
            ],
            "text/plain": [
              "                                text_display\n",
              "200801  <a href=\"about:invalid#zCSafez\"></a>\n",
              "332999  <a href=\"about:invalid#zCSafez\"></a>\n",
              "381745  <a href=\"about:invalid#zCSafez\"></a>\n",
              "389751  <a href=\"about:invalid#zCSafez\"></a>\n",
              "396454  <a href=\"about:invalid#zCSafez\"></a>\n",
              "467200  <a href=\"about:invalid#zCSafez\"></a>\n",
              "478880  <a href=\"about:invalid#zCSafez\"></a>"
            ]
          },
          "execution_count": 16,
          "metadata": {},
          "output_type": "execute_result"
        }
      ],
      "source": [
        "comments.loc[comments['text_original'].isna(), ['text_display']]"
      ]
    },
    {
      "cell_type": "code",
      "execution_count": null,
      "metadata": {
        "id": "CGpWAy-WCBVl"
      },
      "outputs": [],
      "source": [
        "comments['text_original'] = comments['text_original'].fillna('')"
      ]
    },
    {
      "cell_type": "code",
      "execution_count": null,
      "metadata": {
        "colab": {
          "base_uri": "https://localhost:8080/"
        },
        "id": "Ee8c3IR63ooZ",
        "outputId": "776f8ac5-a674-4bb1-ffe4-784a13d32b7d"
      },
      "outputs": [
        {
          "name": "stdout",
          "output_type": "stream",
          "text": [
            "<class 'pandas.core.frame.DataFrame'>\n",
            "Int64Index: 444605 entries, 0 to 487499\n",
            "Data columns (total 26 columns):\n",
            " #   Column                    Non-Null Count   Dtype  \n",
            "---  ------                    --------------   -----  \n",
            " 0   is_deleted                444605 non-null  object \n",
            " 1   deleted_at                0 non-null       float64\n",
            " 2   uuid                      444605 non-null  object \n",
            " 3   author_display_name       444583 non-null  object \n",
            " 4   author_profile_image_url  444605 non-null  object \n",
            " 5   author_channel_url        444605 non-null  object \n",
            " 6   text_display              444605 non-null  object \n",
            " 7   text_original             444605 non-null  object \n",
            " 8   can_rate                  444605 non-null  object \n",
            " 9   like_count                444605 non-null  int64  \n",
            " 10  published_at              444605 non-null  object \n",
            " 11  youtube_update_timestamp  444605 non-null  object \n",
            " 12  can_reply                 218129 non-null  object \n",
            " 13  total_reply_count         218129 non-null  float64\n",
            " 14  is_public                 218129 non-null  object \n",
            " 15  created_at                444605 non-null  object \n",
            " 16  updated_at                444605 non-null  object \n",
            " 17  parent_uuid               226476 non-null  object \n",
            " 18  id                        444605 non-null  int64  \n",
            " 19  author_channel_id         444605 non-null  int64  \n",
            " 20  video_id                  444605 non-null  int64  \n",
            " 21  deleted_by_youtube        444605 non-null  object \n",
            " 22  days_unseen               444605 non-null  int64  \n",
            " 23  deletion_reason           0 non-null       float64\n",
            " 24  rank                      444605 non-null  int64  \n",
            " 25  video_uuid                444605 non-null  object \n",
            "dtypes: float64(3), int64(6), object(17)\n",
            "memory usage: 91.6+ MB\n"
          ]
        }
      ],
      "source": [
        "comments.info()"
      ]
    },
    {
      "cell_type": "code",
      "execution_count": null,
      "metadata": {
        "colab": {
          "base_uri": "https://localhost:8080/"
        },
        "id": "O5_a7Lmz7OEl",
        "outputId": "97782996-043a-421e-c784-7d2ba5e86fe0"
      },
      "outputs": [
        {
          "name": "stderr",
          "output_type": "stream",
          "text": [
            "100%|██████████| 2431/2431 [00:00<00:00, 3093.94it/s]\n"
          ]
        }
      ],
      "source": [
        "comments_per_video =  {}\n",
        "comments_grouped_by_video = comments.groupby('video_uuid')\n",
        "with tqdm(total=len(comments_grouped_by_video)) as pbar:\n",
        "  for video_uuid, video_comments in comments_grouped_by_video:\n",
        "    comments_per_video[video_uuid] = ' '.join(video_comments['text_original'].values)\n",
        "    pbar.update(1)"
      ]
    },
    {
      "cell_type": "code",
      "execution_count": null,
      "metadata": {
        "id": "xIU7eCJO_AQZ"
      },
      "outputs": [],
      "source": [
        "comments_per_video_file = 'comments_per_video.pickle'\n",
        "dump_data(comments_per_video, comments_per_video_file)"
      ]
    },
    {
      "cell_type": "code",
      "execution_count": null,
      "metadata": {
        "colab": {
          "base_uri": "https://localhost:8080/",
          "height": 140
        },
        "id": "3igdPJQmBUMi",
        "outputId": "4c505e55-9431-4c17-8078-f4df0100624c"
      },
      "outputs": [],
      "source": [
        "comments_per_video['-5xNn86mNh8']"
      ]
    },
    {
      "cell_type": "code",
      "execution_count": null,
      "metadata": {
        "id": "me72bck9Bp0J"
      },
      "outputs": [],
      "source": [
        "comments_pickle = 'video_comments.pickle'\n",
        "all_video_comments = load_data(comments_pickle)"
      ]
    },
    {
      "cell_type": "code",
      "execution_count": null,
      "metadata": {
        "colab": {
          "base_uri": "https://localhost:8080/"
        },
        "id": "dsGKE5jVDGbn",
        "outputId": "654171fe-c181-4ab9-a417-8be90994b7a4"
      },
      "outputs": [
        {
          "name": "stderr",
          "output_type": "stream",
          "text": [
            "100%|██████████| 2431/2431 [1:45:14<00:00,  2.60s/it]\n"
          ]
        }
      ],
      "source": [
        "with tqdm(total=len(comments_per_video)) as pbar:\n",
        "  for i, (video_uuid, comments_text) in enumerate(comments_per_video.items()):\n",
        "    if video_uuid in all_video_comments:\n",
        "      pbar.update(1)\n",
        "      continue\n",
        "    \n",
        "    preprocessed_text = preprocess_model(np.array([comments_text]))\n",
        "    encoded_text = encoder_model(preprocessed_text)\n",
        "    all_video_comments[video_uuid] = encoded_text\n",
        "    if (i % 10) == 0:\n",
        "      dump_data(all_video_comments, comments_pickle)\n",
        "    pbar.update(1)\n",
        "  dump_data(all_video_comments, comments_pickle)"
      ]
    },
    {
      "cell_type": "code",
      "execution_count": null,
      "metadata": {
        "colab": {
          "base_uri": "https://localhost:8080/"
        },
        "id": "NvYhTAD9GyHO",
        "outputId": "32546d39-70eb-4f93-8b7e-12e423d394e5"
      },
      "outputs": [
        {
          "data": {
            "text/plain": [
              "2431"
            ]
          },
          "execution_count": 35,
          "metadata": {},
          "output_type": "execute_result"
        }
      ],
      "source": [
        "len(all_video_comments)"
      ]
    },
    {
      "cell_type": "markdown",
      "metadata": {
        "id": "_uHhptlLjDTa"
      },
      "source": [
        "### Fill missing video comments"
      ]
    },
    {
      "cell_type": "code",
      "execution_count": null,
      "metadata": {
        "id": "PNyYPIfpg5Of"
      },
      "outputs": [],
      "source": [
        "filled_comments_pickle = 'video_comments_filled.pickle'\n",
        "filled_video_comments = load_data(filled_comments_pickle)"
      ]
    },
    {
      "cell_type": "code",
      "execution_count": null,
      "metadata": {
        "colab": {
          "base_uri": "https://localhost:8080/"
        },
        "id": "3bezG0dhjd85",
        "outputId": "5075fae1-a12c-4871-be52-4c1f59112abc"
      },
      "outputs": [
        {
          "name": "stderr",
          "output_type": "stream",
          "text": [
            "100%|██████████| 2622/2622 [00:00<00:00, 25149.08it/s]\n"
          ]
        }
      ],
      "source": [
        "preprocessed_empty_text = preprocess_model(np.array(['']))\n",
        "encoded_empty_text = encoder_model(preprocessed_empty_text)\n",
        "\n",
        "with tqdm(total=len(all_video_snippets)) as pbar:\n",
        "  for i, video_uuid in enumerate(all_video_snippets.keys()):\n",
        "    if video_uuid in filled_video_comments:\n",
        "      pbar.update(1)\n",
        "      continue\n",
        "    \n",
        "    if video_uuid in all_video_comments:\n",
        "      filled_video_comments[video_uuid] = all_video_comments[video_uuid]\n",
        "    else:\n",
        "      filled_video_comments[video_uuid] = encoded_empty_text\n",
        "    \n",
        "    pbar.update(1)\n",
        "  \n",
        "  dump_data(filled_video_comments, filled_comments_pickle)"
      ]
    }
  ],
  "metadata": {
    "colab": {
      "collapsed_sections": [
        "TL86b6fQoKh7",
        "Hiiw4wG3Q_Rg"
      ],
      "name": "bert_embeddings.ipynb",
      "provenance": []
    },
    "kernelspec": {
      "display_name": "Python 3",
      "name": "python3"
    },
    "language_info": {
      "name": "python"
    }
  },
  "nbformat": 4,
  "nbformat_minor": 0
}

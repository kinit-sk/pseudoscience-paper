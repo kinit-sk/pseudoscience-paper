{
 "cells": [
  {
   "cell_type": "code",
   "execution_count": 1,
   "metadata": {},
   "outputs": [],
   "source": [
    "import nltk\n",
    "import json\n",
    "import pandas as pd\n",
    "import csv\n",
    "import os"
   ]
  },
  {
   "cell_type": "markdown",
   "metadata": {},
   "source": [
    "# Videos and transcripts"
   ]
  },
  {
   "cell_type": "code",
   "execution_count": 19,
   "metadata": {},
   "outputs": [],
   "source": [
    "def transform_video(video):\n",
    "    return {\n",
    "        \"annotation\": {\n",
    "            \"annotations\": [\n",
    "            ],\n",
    "            \"label\": video['annotation'],\n",
    "            \"manual_review_label\": video['annotation']\n",
    "        },\n",
    "        \"etag\": \"\",\n",
    "        \"id\": video['uuid'],\n",
    "        \"isSeed\": True,\n",
    "        \"kind\": \"youtube#video\",\n",
    "        \"relatedVideos\": [\n",
    "        ],\n",
    "        \"search_term\": \"\",\n",
    "        \"snippet\": {\n",
    "            \"categoryId\": video['category_id'] if video['category_id'] else \"\",\n",
    "            \"channelId\": video['channel_id'] if video['channel_id'] else \"\",\n",
    "            \"channelTitle\": \"\",\n",
    "            \"defaultAudioLanguage\": video['default_audio_language'] if video['default_audio_language'] else \"\",\n",
    "            \"description\": video['description'],\n",
    "            \"liveBroadcastContent\": \"none\",\n",
    "            \"localized\": {\n",
    "                \"description\": video['description'],\n",
    "                \"title\": video['title']\n",
    "            },\n",
    "            \"publishedAt\": video['published_at'].isoformat(),\n",
    "            \"tags\": [\n",
    "            ],\n",
    "            \"thumbnails\": {\n",
    "            },\n",
    "            \"title\": video['title']\n",
    "        },\n",
    "        \"statistics\": {\n",
    "            \"commentCount\": video['comment_count'] if video['comment_count'] else 0,\n",
    "            \"dislikeCount\": video['dislike_count'] if video['dislike_count'] else 0,\n",
    "            \"favoriteCount\": video['favourite_count'] if video['favourite_count'] else 0,\n",
    "            \"likeCount\": video['like_count'] if video['like_count'] else 0,\n",
    "            \"viewCount\": video['view_count'] if video['view_count'] else 0\n",
    "        }\n",
    "    }\n",
    "\n",
    "\n",
    "def transform_video_to_transcript(video):\n",
    "    return {\n",
    "        \"captions\": [\n",
    "            sent.lower()\n",
    "            for line in video['clean_transcript']\n",
    "            for sent in nltk.sent_tokenize(line)\n",
    "        ],\n",
    "        \"id\": video['uuid']\n",
    "    }"
   ]
  },
  {
   "cell_type": "code",
   "execution_count": 2,
   "metadata": {},
   "outputs": [],
   "source": [
    "videos = pd.read_pickle('videos.p')"
   ]
  },
  {
   "cell_type": "code",
   "execution_count": 3,
   "metadata": {},
   "outputs": [
    {
     "name": "stdout",
     "output_type": "stream",
     "text": [
      "<class 'pandas.core.frame.DataFrame'>\n",
      "RangeIndex: 2800 entries, 0 to 2799\n",
      "Data columns (total 40 columns):\n",
      " #   Column                     Non-Null Count  Dtype  \n",
      "---  ------                     --------------  -----  \n",
      " 0   is_deleted                 2800 non-null   bool   \n",
      " 1   deleted_at                 0 non-null      object \n",
      " 2   uuid                       2800 non-null   object \n",
      " 3   published_at               2800 non-null   object \n",
      " 4   title                      2800 non-null   object \n",
      " 5   description                2800 non-null   object \n",
      " 6   default_language           845 non-null    object \n",
      " 7   default_audio_language     1905 non-null   object \n",
      " 8   duration                   2800 non-null   object \n",
      " 9   dimension                  2800 non-null   object \n",
      " 10  definition                 2800 non-null   object \n",
      " 11  caption                    2800 non-null   object \n",
      " 12  licensed_content           2800 non-null   bool   \n",
      " 13  projection                 2800 non-null   object \n",
      " 14  has_custom_thumbnail       0 non-null      object \n",
      " 15  upload_status              2800 non-null   object \n",
      " 16  failure_reason             0 non-null      object \n",
      " 17  rejection_reason           0 non-null      object \n",
      " 18  privacy_status             2800 non-null   object \n",
      " 19  licence                    2800 non-null   object \n",
      " 20  embeddable                 2800 non-null   bool   \n",
      " 21  public_stats_viewable      2800 non-null   bool   \n",
      " 22  view_count                 2786 non-null   float64\n",
      " 23  like_count                 2758 non-null   float64\n",
      " 24  dislike_count              2293 non-null   float64\n",
      " 25  favourite_count            2800 non-null   int64  \n",
      " 26  comment_count              2648 non-null   float64\n",
      " 27  category_id                0 non-null      object \n",
      " 28  thumbnail_id               2800 non-null   int64  \n",
      " 29  created_at                 2800 non-null   object \n",
      " 30  updated_at                 2800 non-null   object \n",
      " 31  extraction_id              2800 non-null   int64  \n",
      " 32  monitor_id                 2800 non-null   int64  \n",
      " 33  id                         2800 non-null   int64  \n",
      " 34  channel_id                 2800 non-null   int64  \n",
      " 35  deleted_by_youtube         2800 non-null   bool   \n",
      " 36  transcript                 2800 non-null   object \n",
      " 37  auto_generated_transcript  2800 non-null   bool   \n",
      " 38  clean_transcript           2800 non-null   object \n",
      " 39  annotation                 2800 non-null   object \n",
      "dtypes: bool(6), float64(4), int64(6), object(24)\n",
      "memory usage: 760.3+ KB\n"
     ]
    }
   ],
   "source": [
    "videos.info()"
   ]
  },
  {
   "cell_type": "code",
   "execution_count": 4,
   "metadata": {},
   "outputs": [
    {
     "data": {
      "text/plain": [
       "175"
      ]
     },
     "execution_count": 4,
     "metadata": {},
     "output_type": "execute_result"
    }
   ],
   "source": [
    "sum(videos[['uuid', 'annotation']].duplicated())"
   ]
  },
  {
   "cell_type": "code",
   "execution_count": 5,
   "metadata": {},
   "outputs": [
    {
     "data": {
      "text/plain": [
       "neutral    175\n",
       "unknown      2\n",
       "Name: annotation, dtype: int64"
      ]
     },
     "execution_count": 5,
     "metadata": {},
     "output_type": "execute_result"
    }
   ],
   "source": [
    "videos[videos['uuid'].duplicated()]['annotation'].value_counts()"
   ]
  },
  {
   "cell_type": "code",
   "execution_count": 6,
   "metadata": {},
   "outputs": [],
   "source": [
    "videos = videos[(videos['annotation'] != 'unknown') & ~videos['annotation'].isna()]"
   ]
  },
  {
   "cell_type": "code",
   "execution_count": 7,
   "metadata": {},
   "outputs": [
    {
     "data": {
      "text/plain": [
       "(2622, 40)"
      ]
     },
     "execution_count": 7,
     "metadata": {},
     "output_type": "execute_result"
    }
   ],
   "source": [
    "videos.drop_duplicates(subset='uuid', keep='first', inplace=True)\n",
    "videos.shape"
   ]
  },
  {
   "cell_type": "code",
   "execution_count": 8,
   "metadata": {},
   "outputs": [
    {
     "data": {
      "text/plain": [
       "neutral      1459\n",
       "debunking     758\n",
       "promoting     405\n",
       "Name: annotation, dtype: int64"
      ]
     },
     "execution_count": 8,
     "metadata": {},
     "output_type": "execute_result"
    }
   ],
   "source": [
    "videos['annotation'].value_counts()"
   ]
  },
  {
   "cell_type": "code",
   "execution_count": 9,
   "metadata": {},
   "outputs": [],
   "source": [
    "videos.to_csv(\"annotated-data.csv\", index=False, quoting=csv.QUOTE_ALL)"
   ]
  },
  {
   "cell_type": "code",
   "execution_count": 24,
   "metadata": {},
   "outputs": [],
   "source": [
    "videos['comment_count'] = videos['comment_count'].fillna(0)\n",
    "videos['dislike_count'] = videos['dislike_count'].fillna(0)\n",
    "videos['like_count'] = videos['like_count'].fillna(0)\n",
    "videos['favourite_count'] = videos['favourite_count'].fillna(0)\n",
    "videos['view_count'] = videos['view_count'].fillna(0)"
   ]
  },
  {
   "cell_type": "code",
   "execution_count": 29,
   "metadata": {},
   "outputs": [],
   "source": [
    "with open('groundtruth_dataset.json', 'w') as f:\n",
    "    f.write(\"[\")\n",
    "    for i, video in videos.iterrows():\n",
    "        data = json.dumps(transform_video(video))\n",
    "        f.write(f'{data},\\n')\n",
    "    f.seek(f.tell() - 2, os.SEEK_SET)\n",
    "    f.truncate()\n",
    "    f.write(\"]\")"
   ]
  },
  {
   "cell_type": "code",
   "execution_count": 31,
   "metadata": {},
   "outputs": [],
   "source": [
    "with open('groundtruth_videos_transcripts.json', 'w') as f:\n",
    "    f.write(\"[\")\n",
    "    \n",
    "    for _, video in videos.iterrows():\n",
    "        data = json.dumps(transform_video_to_transcript(video))\n",
    "        f.write(data + ',\\n')\n",
    "    \n",
    "    f.seek(f.tell() - 2, os.SEEK_SET)\n",
    "    f.truncate()\n",
    "    f.write(\"]\")"
   ]
  },
  {
   "cell_type": "markdown",
   "metadata": {},
   "source": [
    "# Comments"
   ]
  },
  {
   "cell_type": "code",
   "execution_count": 32,
   "metadata": {},
   "outputs": [],
   "source": [
    "def transform_comment(video_uuid, comment_ids):\n",
    "    return {\n",
    "        \"comments\": comment_ids,\n",
    "        \"id\": video_uuid\n",
    "    }\n",
    "\n",
    "\n",
    "def comment_to_youtube_response(comment):\n",
    "    return {\n",
    "        'snippet': {\n",
    "            'topLevelComment': {\n",
    "                'snippet': {\n",
    "                    'authorDisplayName': comment['author_display_name'],\n",
    "                    'authorProfileImageUrl': comment['author_profile_image_url'],\n",
    "                    'authorChannelUrl': comment['author_channel_url'],\n",
    "                    'textDisplay': comment['text_display'],\n",
    "                    'textOriginal': comment['text_original'],\n",
    "                    'parentId': comment['parent_uuid'],\n",
    "                    'canRate': comment['can_rate'],\n",
    "                    'likeCount': comment['like_count'],\n",
    "                    'publishedAt': comment['published_at'].isoformat(),\n",
    "                    'updatedAt': comment['youtube_update_timestamp'].isoformat(),\n",
    "                    # 'authorChannelId': {\n",
    "                    #     'value': comment['author_channel_uuid']\n",
    "                    # }\n",
    "                }\n",
    "            },\n",
    "            'canReply': comment['can_reply'],\n",
    "            'totalReplyCount': comment['total_reply_count'],\n",
    "            'isPublic': comment['is_public']\n",
    "        }\n",
    "    }"
   ]
  },
  {
   "cell_type": "code",
   "execution_count": 33,
   "metadata": {},
   "outputs": [],
   "source": [
    "comments = pd.read_csv('youtube-comments.csv')"
   ]
  },
  {
   "cell_type": "code",
   "execution_count": 34,
   "metadata": {},
   "outputs": [
    {
     "name": "stdout",
     "output_type": "stream",
     "text": [
      "<class 'pandas.core.frame.DataFrame'>\n",
      "RangeIndex: 487500 entries, 0 to 487499\n",
      "Data columns (total 25 columns):\n",
      " #   Column                    Non-Null Count   Dtype  \n",
      "---  ------                    --------------   -----  \n",
      " 0   is_deleted                487500 non-null  object \n",
      " 1   deleted_at                0 non-null       float64\n",
      " 2   uuid                      487500 non-null  object \n",
      " 3   author_display_name       487478 non-null  object \n",
      " 4   author_profile_image_url  487500 non-null  object \n",
      " 5   author_channel_url        487500 non-null  object \n",
      " 6   text_display              487500 non-null  object \n",
      " 7   text_original             487492 non-null  object \n",
      " 8   can_rate                  487500 non-null  object \n",
      " 9   like_count                487500 non-null  int64  \n",
      " 10  published_at              487500 non-null  object \n",
      " 11  youtube_update_timestamp  487500 non-null  object \n",
      " 12  can_reply                 242112 non-null  object \n",
      " 13  total_reply_count         242112 non-null  float64\n",
      " 14  is_public                 242112 non-null  object \n",
      " 15  created_at                487500 non-null  object \n",
      " 16  updated_at                487500 non-null  object \n",
      " 17  parent_uuid               245388 non-null  object \n",
      " 18  id                        487500 non-null  int64  \n",
      " 19  author_channel_id         487500 non-null  int64  \n",
      " 20  video_id                  487500 non-null  int64  \n",
      " 21  deleted_by_youtube        487500 non-null  object \n",
      " 22  days_unseen               487500 non-null  int64  \n",
      " 23  deletion_reason           0 non-null       float64\n",
      " 24  rank                      487500 non-null  int64  \n",
      "dtypes: float64(3), int64(6), object(16)\n",
      "memory usage: 93.0+ MB\n"
     ]
    }
   ],
   "source": [
    "comments.info()"
   ]
  },
  {
   "cell_type": "code",
   "execution_count": 35,
   "metadata": {},
   "outputs": [
    {
     "data": {
      "text/html": [
       "<div>\n",
       "<style scoped>\n",
       "    .dataframe tbody tr th:only-of-type {\n",
       "        vertical-align: middle;\n",
       "    }\n",
       "\n",
       "    .dataframe tbody tr th {\n",
       "        vertical-align: top;\n",
       "    }\n",
       "\n",
       "    .dataframe thead th {\n",
       "        text-align: right;\n",
       "    }\n",
       "</style>\n",
       "<table border=\"1\" class=\"dataframe\">\n",
       "  <thead>\n",
       "    <tr style=\"text-align: right;\">\n",
       "      <th></th>\n",
       "      <th>is_deleted</th>\n",
       "      <th>deleted_at</th>\n",
       "      <th>uuid</th>\n",
       "      <th>author_display_name</th>\n",
       "      <th>author_profile_image_url</th>\n",
       "      <th>author_channel_url</th>\n",
       "      <th>text_display</th>\n",
       "      <th>text_original</th>\n",
       "      <th>can_rate</th>\n",
       "      <th>like_count</th>\n",
       "      <th>...</th>\n",
       "      <th>created_at</th>\n",
       "      <th>updated_at</th>\n",
       "      <th>parent_uuid</th>\n",
       "      <th>id</th>\n",
       "      <th>author_channel_id</th>\n",
       "      <th>video_id</th>\n",
       "      <th>deleted_by_youtube</th>\n",
       "      <th>days_unseen</th>\n",
       "      <th>deletion_reason</th>\n",
       "      <th>rank</th>\n",
       "    </tr>\n",
       "  </thead>\n",
       "  <tbody>\n",
       "    <tr>\n",
       "      <th>0</th>\n",
       "      <td>f</td>\n",
       "      <td>NaN</td>\n",
       "      <td>96YKgre5-ty9O6TLLDYOMz</td>\n",
       "      <td>Loaded L.V.X</td>\n",
       "      <td>https://yt3.ggpht.com/ytc/AAUvwnh1VasSPajajfnS...</td>\n",
       "      <td>http://www.youtube.com/channel/UCeSSjOw0i_qSvN...</td>\n",
       "      <td>Yup. Turn off the tv</td>\n",
       "      <td>Yup. Turn off the tv</td>\n",
       "      <td>t</td>\n",
       "      <td>0</td>\n",
       "      <td>...</td>\n",
       "      <td>3/6/2021 10:49:22.558691+02:02</td>\n",
       "      <td>3/6/2021 10:49:22.558691+02:02</td>\n",
       "      <td>Ugx1uOdPhGcYDp4vdYx4AaABAg</td>\n",
       "      <td>1688076</td>\n",
       "      <td>839180</td>\n",
       "      <td>929</td>\n",
       "      <td>f</td>\n",
       "      <td>0</td>\n",
       "      <td>NaN</td>\n",
       "      <td>1</td>\n",
       "    </tr>\n",
       "    <tr>\n",
       "      <th>1</th>\n",
       "      <td>f</td>\n",
       "      <td>NaN</td>\n",
       "      <td>9BU8wWpCyWT9O6TEUF9Xfu</td>\n",
       "      <td>Loaded L.V.X</td>\n",
       "      <td>https://yt3.ggpht.com/ytc/AAUvwnh1VasSPajajfnS...</td>\n",
       "      <td>http://www.youtube.com/channel/UCeSSjOw0i_qSvN...</td>\n",
       "      <td>Covid is S C A M</td>\n",
       "      <td>Covid is S C A M</td>\n",
       "      <td>t</td>\n",
       "      <td>0</td>\n",
       "      <td>...</td>\n",
       "      <td>3/6/2021 10:49:17.667701+02:02</td>\n",
       "      <td>3/6/2021 10:49:17.667701+02:02</td>\n",
       "      <td>UgxwMFl7ARvTS8GPSVl4AaABAg</td>\n",
       "      <td>1687965</td>\n",
       "      <td>839180</td>\n",
       "      <td>929</td>\n",
       "      <td>f</td>\n",
       "      <td>0</td>\n",
       "      <td>NaN</td>\n",
       "      <td>2</td>\n",
       "    </tr>\n",
       "    <tr>\n",
       "      <th>2</th>\n",
       "      <td>f</td>\n",
       "      <td>NaN</td>\n",
       "      <td>97tRiCemPmn9O6SdzBYiA_</td>\n",
       "      <td>Loaded L.V.X</td>\n",
       "      <td>https://yt3.ggpht.com/ytc/AAUvwnh1VasSPajajfnS...</td>\n",
       "      <td>http://www.youtube.com/channel/UCeSSjOw0i_qSvN...</td>\n",
       "      <td>Lol covid is a scam fam</td>\n",
       "      <td>Lol covid is a scam fam</td>\n",
       "      <td>t</td>\n",
       "      <td>0</td>\n",
       "      <td>...</td>\n",
       "      <td>3/6/2021 10:48:43.017541+02:02</td>\n",
       "      <td>3/6/2021 10:48:43.017541+02:02</td>\n",
       "      <td>UgypGibX3le34T6siTR4AaABAg</td>\n",
       "      <td>1687274</td>\n",
       "      <td>839180</td>\n",
       "      <td>929</td>\n",
       "      <td>f</td>\n",
       "      <td>0</td>\n",
       "      <td>NaN</td>\n",
       "      <td>3</td>\n",
       "    </tr>\n",
       "    <tr>\n",
       "      <th>3</th>\n",
       "      <td>f</td>\n",
       "      <td>NaN</td>\n",
       "      <td>90S4UpDa9ZJ9O5zgjEEqsW</td>\n",
       "      <td>CZ TS !!!</td>\n",
       "      <td>https://yt3.ggpht.com/ytc/AAUvwngEUS6Z0xr9Ckq3...</td>\n",
       "      <td>http://www.youtube.com/channel/UCSxE1mUNJT5zat...</td>\n",
       "      <td>@Doug Spindler so this research has reach a de...</td>\n",
       "      <td>@Doug Spindler so this research has reach a de...</td>\n",
       "      <td>t</td>\n",
       "      <td>0</td>\n",
       "      <td>...</td>\n",
       "      <td>3/6/2021 10:47:39.47139+02:02</td>\n",
       "      <td>3/6/2021 10:47:39.47139+02:02</td>\n",
       "      <td>UgyhRSWFtcAwMOvVNDh4AaABAg</td>\n",
       "      <td>1686260</td>\n",
       "      <td>838548</td>\n",
       "      <td>929</td>\n",
       "      <td>f</td>\n",
       "      <td>0</td>\n",
       "      <td>NaN</td>\n",
       "      <td>4</td>\n",
       "    </tr>\n",
       "    <tr>\n",
       "      <th>4</th>\n",
       "      <td>f</td>\n",
       "      <td>NaN</td>\n",
       "      <td>UgxMgWqxG8f8WTXFGW54AaABAg</td>\n",
       "      <td>Cheli A E</td>\n",
       "      <td>https://yt3.ggpht.com/QDPXtAeF9iyFHQs6YfXlYr_T...</td>\n",
       "      <td>http://www.youtube.com/channel/UCKV8LCG9T4WzIL...</td>\n",
       "      <td>Brilliant!!  Thank you.</td>\n",
       "      <td>Brilliant!!  Thank you.</td>\n",
       "      <td>t</td>\n",
       "      <td>0</td>\n",
       "      <td>...</td>\n",
       "      <td>3/6/2021 10:48:17.590593+02:02</td>\n",
       "      <td>3/6/2021 10:48:17.590593+02:02</td>\n",
       "      <td>NaN</td>\n",
       "      <td>1686909</td>\n",
       "      <td>838907</td>\n",
       "      <td>929</td>\n",
       "      <td>f</td>\n",
       "      <td>0</td>\n",
       "      <td>NaN</td>\n",
       "      <td>5</td>\n",
       "    </tr>\n",
       "  </tbody>\n",
       "</table>\n",
       "<p>5 rows × 25 columns</p>\n",
       "</div>"
      ],
      "text/plain": [
       "  is_deleted  deleted_at                        uuid author_display_name  \\\n",
       "0          f         NaN      96YKgre5-ty9O6TLLDYOMz        Loaded L.V.X   \n",
       "1          f         NaN      9BU8wWpCyWT9O6TEUF9Xfu        Loaded L.V.X   \n",
       "2          f         NaN      97tRiCemPmn9O6SdzBYiA_        Loaded L.V.X   \n",
       "3          f         NaN      90S4UpDa9ZJ9O5zgjEEqsW           CZ TS !!!   \n",
       "4          f         NaN  UgxMgWqxG8f8WTXFGW54AaABAg           Cheli A E   \n",
       "\n",
       "                            author_profile_image_url  \\\n",
       "0  https://yt3.ggpht.com/ytc/AAUvwnh1VasSPajajfnS...   \n",
       "1  https://yt3.ggpht.com/ytc/AAUvwnh1VasSPajajfnS...   \n",
       "2  https://yt3.ggpht.com/ytc/AAUvwnh1VasSPajajfnS...   \n",
       "3  https://yt3.ggpht.com/ytc/AAUvwngEUS6Z0xr9Ckq3...   \n",
       "4  https://yt3.ggpht.com/QDPXtAeF9iyFHQs6YfXlYr_T...   \n",
       "\n",
       "                                  author_channel_url  \\\n",
       "0  http://www.youtube.com/channel/UCeSSjOw0i_qSvN...   \n",
       "1  http://www.youtube.com/channel/UCeSSjOw0i_qSvN...   \n",
       "2  http://www.youtube.com/channel/UCeSSjOw0i_qSvN...   \n",
       "3  http://www.youtube.com/channel/UCSxE1mUNJT5zat...   \n",
       "4  http://www.youtube.com/channel/UCKV8LCG9T4WzIL...   \n",
       "\n",
       "                                        text_display  \\\n",
       "0                               Yup. Turn off the tv   \n",
       "1                                   Covid is S C A M   \n",
       "2                            Lol covid is a scam fam   \n",
       "3  @Doug Spindler so this research has reach a de...   \n",
       "4                            Brilliant!!  Thank you.   \n",
       "\n",
       "                                       text_original can_rate  like_count  \\\n",
       "0                               Yup. Turn off the tv        t           0   \n",
       "1                                   Covid is S C A M        t           0   \n",
       "2                            Lol covid is a scam fam        t           0   \n",
       "3  @Doug Spindler so this research has reach a de...        t           0   \n",
       "4                            Brilliant!!  Thank you.        t           0   \n",
       "\n",
       "   ...                      created_at                      updated_at  \\\n",
       "0  ...  3/6/2021 10:49:22.558691+02:02  3/6/2021 10:49:22.558691+02:02   \n",
       "1  ...  3/6/2021 10:49:17.667701+02:02  3/6/2021 10:49:17.667701+02:02   \n",
       "2  ...  3/6/2021 10:48:43.017541+02:02  3/6/2021 10:48:43.017541+02:02   \n",
       "3  ...   3/6/2021 10:47:39.47139+02:02   3/6/2021 10:47:39.47139+02:02   \n",
       "4  ...  3/6/2021 10:48:17.590593+02:02  3/6/2021 10:48:17.590593+02:02   \n",
       "\n",
       "                  parent_uuid       id author_channel_id video_id  \\\n",
       "0  Ugx1uOdPhGcYDp4vdYx4AaABAg  1688076            839180      929   \n",
       "1  UgxwMFl7ARvTS8GPSVl4AaABAg  1687965            839180      929   \n",
       "2  UgypGibX3le34T6siTR4AaABAg  1687274            839180      929   \n",
       "3  UgyhRSWFtcAwMOvVNDh4AaABAg  1686260            838548      929   \n",
       "4                         NaN  1686909            838907      929   \n",
       "\n",
       "  deleted_by_youtube days_unseen  deletion_reason  rank  \n",
       "0                  f           0              NaN     1  \n",
       "1                  f           0              NaN     2  \n",
       "2                  f           0              NaN     3  \n",
       "3                  f           0              NaN     4  \n",
       "4                  f           0              NaN     5  \n",
       "\n",
       "[5 rows x 25 columns]"
      ]
     },
     "execution_count": 35,
     "metadata": {},
     "output_type": "execute_result"
    }
   ],
   "source": [
    "comments.head()"
   ]
  },
  {
   "cell_type": "code",
   "execution_count": 36,
   "metadata": {},
   "outputs": [],
   "source": [
    "video_uuids = videos.set_index('id')['uuid'].to_dict()\n",
    "comments['video_uuid'] = comments['video_id'].apply(video_uuids.get)\n",
    "comments = comments.loc[~comments['video_uuid'].isna()]"
   ]
  },
  {
   "cell_type": "code",
   "execution_count": 37,
   "metadata": {},
   "outputs": [
    {
     "data": {
      "text/plain": [
       "(444605, 26)"
      ]
     },
     "execution_count": 37,
     "metadata": {},
     "output_type": "execute_result"
    }
   ],
   "source": [
    "comments.shape"
   ]
  },
  {
   "cell_type": "code",
   "execution_count": 38,
   "metadata": {},
   "outputs": [],
   "source": [
    "comments_by_video = comments.groupby('video_uuid')['uuid'].apply(list).to_dict()\n",
    "with open('groundtruth_videos_comments_ids.json', 'w') as f:\n",
    "    f.write(\"[\")\n",
    "    for video_uuid, comment_ids in comments_by_video.items():\n",
    "        transformed = transform_comment(video_uuid, comment_ids)\n",
    "        data = json.dumps(transformed)\n",
    "        f.write(f'{data},\\n')\n",
    "    f.seek(f.tell() - 2, os.SEEK_SET)\n",
    "    f.truncate()\n",
    "    f.write(\"]\")"
   ]
  },
  {
   "cell_type": "code",
   "execution_count": 33,
   "metadata": {},
   "outputs": [],
   "source": [
    "comments['published_at'] = pd.to_datetime(comments['published_at'])\n",
    "comments['youtube_update_timestamp'] = pd.to_datetime(comments['youtube_update_timestamp'])"
   ]
  },
  {
   "cell_type": "code",
   "execution_count": 35,
   "metadata": {},
   "outputs": [],
   "source": [
    "comments.to_pickle('comments.p')"
   ]
  },
  {
   "cell_type": "code",
   "execution_count": 36,
   "metadata": {},
   "outputs": [],
   "source": [
    "comments_by_video = comments.groupby('video_uuid')\n",
    "for video_uuid, video_comments in comments_by_video:\n",
    "    body = '\\n'.join([\n",
    "        json.dumps(comment_to_youtube_response(comment))\n",
    "        for _, comment in video_comments.iterrows()\n",
    "    ])\n",
    "\n",
    "    os.makedirs(\n",
    "        f'comments/{video_uuid}',\n",
    "        exist_ok=True\n",
    "    )\n",
    "\n",
    "    with open(f'comments/{video_uuid}/{video_uuid}.json', 'w') as f:\n",
    "        f.write(body)"
   ]
  },
  {
   "cell_type": "markdown",
   "metadata": {},
   "source": [
    "# Create FastText train data"
   ]
  },
  {
   "cell_type": "code",
   "execution_count": 37,
   "metadata": {},
   "outputs": [],
   "source": [
    "from nltk.tokenize import RegexpTokenizer\n",
    "from nltk.stem import WordNetLemmatizer,PorterStemmer\n",
    "from nltk.corpus import stopwords\n",
    "import re"
   ]
  },
  {
   "cell_type": "code",
   "execution_count": 38,
   "metadata": {},
   "outputs": [],
   "source": [
    "lemmatizer = WordNetLemmatizer()\n",
    "stemmer = PorterStemmer() "
   ]
  },
  {
   "cell_type": "code",
   "execution_count": 39,
   "metadata": {},
   "outputs": [],
   "source": [
    "def preprocess(sentence):\n",
    "    sentence=str(sentence)\n",
    "    sentence = sentence.lower()\n",
    "    sentence=sentence.replace('{html}',\"\") \n",
    "    cleanr = re.compile('<.*?>')\n",
    "    cleantext = re.sub(cleanr, '', sentence)\n",
    "    rem_url=re.sub(r'http\\S+', '',cleantext)\n",
    "    rem_num = re.sub('[0-9]+', '', rem_url)\n",
    "    tokenizer = RegexpTokenizer(r'\\w+')\n",
    "    tokens = tokenizer.tokenize(rem_num)  \n",
    "    filtered_words = [w for w in tokens if len(w) > 2 if not w in stopwords.words('english')]\n",
    "    return \" \".join(filtered_words)"
   ]
  },
  {
   "cell_type": "code",
   "execution_count": 40,
   "metadata": {},
   "outputs": [
    {
     "name": "stdout",
     "output_type": "stream",
     "text": [
      "Video snippets\n"
     ]
    }
   ],
   "source": [
    "print('Video snippets')\n",
    "with open('groundtruth_dataset.json', 'r') as f:\n",
    "    with open('video_snippet_train_data.txt', 'w') as output:\n",
    "        for line in f:\n",
    "            data = json.loads(line)\n",
    "            sentence = preprocess(data['snippet']['description'])\n",
    "            output.write(\n",
    "                sentence + '\\n'\n",
    "            )"
   ]
  },
  {
   "cell_type": "code",
   "execution_count": 41,
   "metadata": {},
   "outputs": [
    {
     "name": "stdout",
     "output_type": "stream",
     "text": [
      "Comments\n"
     ]
    }
   ],
   "source": [
    "print('Comments')\n",
    "comments = pd.read_pickle('comments.p')\n",
    "with open('video_comments_train_data.txt', 'w') as output:\n",
    "    for comment in comments['text_original'].sample(100000):\n",
    "        sentence = preprocess(comment)\n",
    "        output.write(sentence + '\\n')"
   ]
  },
  {
   "cell_type": "code",
   "execution_count": 42,
   "metadata": {},
   "outputs": [
    {
     "name": "stdout",
     "output_type": "stream",
     "text": [
      "Video transcripts\n"
     ]
    }
   ],
   "source": [
    "print('Video transcripts')\n",
    "with open('groundtruth_videos_transcripts.json', 'r') as f:\n",
    "    with open('video_transcript_train_data.txt', 'w') as output:\n",
    "        for line in f:\n",
    "            data = json.loads(line)\n",
    "            for sentence in data['captions']:\n",
    "                sentence = preprocess(sentence)\n",
    "                output.write(sentence + '\\n')"
   ]
  },
  {
   "cell_type": "code",
   "execution_count": 43,
   "metadata": {},
   "outputs": [
    {
     "name": "stdout",
     "output_type": "stream",
     "text": [
      "Video tags\n"
     ]
    }
   ],
   "source": [
    "print('Video tags')\n",
    "with open('groundtruth_dataset.json', 'r') as f:\n",
    "    with open('video_tags_train_data.txt', 'w') as output:\n",
    "        for line in f:\n",
    "            data = json.loads(line)\n",
    "            tags = data['snippet']['tags']\n",
    "            if len(tags) > 0:\n",
    "                output.write(\n",
    "                    ' '.join(tags) + '\\n'\n",
    "                )"
   ]
  }
 ],
 "metadata": {
  "kernelspec": {
   "display_name": "Python 3.8.10 ('.venv': venv)",
   "language": "python",
   "name": "python3"
  },
  "language_info": {
   "codemirror_mode": {
    "name": "ipython",
    "version": 3
   },
   "file_extension": ".py",
   "mimetype": "text/x-python",
   "name": "python",
   "nbconvert_exporter": "python",
   "pygments_lexer": "ipython3",
   "version": "3.8.10"
  },
  "orig_nbformat": 4,
  "vscode": {
   "interpreter": {
    "hash": "b299439bf7eaeae6df5b812e2fbba3f4e3163911666ff4139437c50c14e61cd3"
   }
  }
 },
 "nbformat": 4,
 "nbformat_minor": 2
}
